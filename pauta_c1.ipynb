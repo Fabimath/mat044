{
 "cells": [
  {
   "cell_type": "code",
   "execution_count": 4,
   "metadata": {},
   "outputs": [],
   "source": [
    "# Lectura\n",
    "library(moments)\n",
    "data = read.csv('covid.csv',sep=';')"
   ]
  },
  {
   "cell_type": "code",
   "execution_count": 5,
   "metadata": {},
   "outputs": [
    {
     "data": {
      "text/html": [
       "<table>\n",
       "<caption>A data.frame: 6 × 3</caption>\n",
       "<thead>\n",
       "\t<tr><th></th><th scope=col>dateRep</th><th scope=col>cases</th><th scope=col>countries</th></tr>\n",
       "\t<tr><th></th><th scope=col>&lt;fct&gt;</th><th scope=col>&lt;int&gt;</th><th scope=col>&lt;fct&gt;</th></tr>\n",
       "</thead>\n",
       "<tbody>\n",
       "\t<tr><th scope=row>1</th><td>06-10-20</td><td>11242</td><td>Argentina</td></tr>\n",
       "\t<tr><th scope=row>2</th><td>05-10-20</td><td> 7668</td><td>Argentina</td></tr>\n",
       "\t<tr><th scope=row>3</th><td>04-10-20</td><td>11129</td><td>Argentina</td></tr>\n",
       "\t<tr><th scope=row>4</th><td>03-10-20</td><td>14687</td><td>Argentina</td></tr>\n",
       "\t<tr><th scope=row>5</th><td>02-10-20</td><td>14001</td><td>Argentina</td></tr>\n",
       "\t<tr><th scope=row>6</th><td>01-10-20</td><td>14392</td><td>Argentina</td></tr>\n",
       "</tbody>\n",
       "</table>\n"
      ],
      "text/latex": [
       "A data.frame: 6 × 3\n",
       "\\begin{tabular}{r|lll}\n",
       "  & dateRep & cases & countries\\\\\n",
       "  & <fct> & <int> & <fct>\\\\\n",
       "\\hline\n",
       "\t1 & 06-10-20 & 11242 & Argentina\\\\\n",
       "\t2 & 05-10-20 &  7668 & Argentina\\\\\n",
       "\t3 & 04-10-20 & 11129 & Argentina\\\\\n",
       "\t4 & 03-10-20 & 14687 & Argentina\\\\\n",
       "\t5 & 02-10-20 & 14001 & Argentina\\\\\n",
       "\t6 & 01-10-20 & 14392 & Argentina\\\\\n",
       "\\end{tabular}\n"
      ],
      "text/markdown": [
       "\n",
       "A data.frame: 6 × 3\n",
       "\n",
       "| <!--/--> | dateRep &lt;fct&gt; | cases &lt;int&gt; | countries &lt;fct&gt; |\n",
       "|---|---|---|---|\n",
       "| 1 | 06-10-20 | 11242 | Argentina |\n",
       "| 2 | 05-10-20 |  7668 | Argentina |\n",
       "| 3 | 04-10-20 | 11129 | Argentina |\n",
       "| 4 | 03-10-20 | 14687 | Argentina |\n",
       "| 5 | 02-10-20 | 14001 | Argentina |\n",
       "| 6 | 01-10-20 | 14392 | Argentina |\n",
       "\n"
      ],
      "text/plain": [
       "  dateRep  cases countries\n",
       "1 06-10-20 11242 Argentina\n",
       "2 05-10-20  7668 Argentina\n",
       "3 04-10-20 11129 Argentina\n",
       "4 03-10-20 14687 Argentina\n",
       "5 02-10-20 14001 Argentina\n",
       "6 01-10-20 14392 Argentina"
      ]
     },
     "metadata": {},
     "output_type": "display_data"
    }
   ],
   "source": [
    "head(data)"
   ]
  },
  {
   "cell_type": "code",
   "execution_count": 6,
   "metadata": {},
   "outputs": [
    {
     "data": {
      "text/html": [
       "2.59083318358823"
      ],
      "text/latex": [
       "2.59083318358823"
      ],
      "text/markdown": [
       "2.59083318358823"
      ],
      "text/plain": [
       "[1] 2.590833"
      ]
     },
     "metadata": {},
     "output_type": "display_data"
    },
    {
     "data": {
      "text/html": [
       "17.9596544212162"
      ],
      "text/latex": [
       "17.9596544212162"
      ],
      "text/markdown": [
       "17.9596544212162"
      ],
      "text/plain": [
       "[1] 17.95965"
      ]
     },
     "metadata": {},
     "output_type": "display_data"
    },
    {
     "data": {
      "image/png": "[encoded data removed]",
      "text/plain": [
       "plot without title"
      ]
     },
     "metadata": {
      "image/png": {
       "height": 420,
       "width": 420
      }
     },
     "output_type": "display_data"
    }
   ],
   "source": [
    "boxplot(data$cases)\n",
    "skewness(data$cases)\n",
    "kurtosis(data$cases)"
   ]
  },
  {
   "cell_type": "code",
   "execution_count": 5,
   "metadata": {},
   "outputs": [],
   "source": [
    "# 1a Respuesta, no por asimetria y outliers, preferiria la mediana."
   ]
  },
  {
   "cell_type": "code",
   "execution_count": 18,
   "metadata": {},
   "outputs": [
    {
     "data": {
      "text/html": [
       "0.855464159811986"
      ],
      "text/latex": [
       "0.855464159811986"
      ],
      "text/markdown": [
       "0.855464159811986"
      ],
      "text/plain": [
       "[1] 0.8554642"
      ]
     },
     "metadata": {},
     "output_type": "display_data"
    }
   ],
   "source": [
    "LS=mean(data$cases) + sd(data$cases) \n",
    "LI=mean(data$cases) - sd(data$cases)\n",
    "length(subset(data,cases<=LS & cases>=LI)$cases)/length(data$cases)\n",
    "# 1b Respuesta, 85.54%"
   ]
  },
  {
   "cell_type": "code",
   "execution_count": 41,
   "metadata": {},
   "outputs": [
    {
     "data": {
      "text/plain": [
       "\n",
       "Argentina   Bolivia     Chile      Peru \n",
       "      214       208       216       213 "
      ]
     },
     "metadata": {},
     "output_type": "display_data"
    }
   ],
   "source": [
    "table(data$countries)"
   ]
  },
  {
   "cell_type": "code",
   "execution_count": 42,
   "metadata": {},
   "outputs": [],
   "source": [
    "Ar = subset(data,countries=='Argentina')\n",
    "IQR= quantile(Ar$cases,0.75) - quantile(Ar$cases,0.25)\n",
    "LI = quantile(Ar$cases,0.25) - 1.5*IQR\n",
    "LS = quantile(Ar$cases,0.75) + 1.5*IQR\n",
    "BI = max(min(Ar$cases),LI)\n",
    "BS = min(max(Ar$cases),LS)"
   ]
  },
  {
   "cell_type": "code",
   "execution_count": 51,
   "metadata": {},
   "outputs": [
    {
     "data": {
      "text/html": [
       "<table>\n",
       "<caption>A data.frame: 1 × 3</caption>\n",
       "<thead>\n",
       "\t<tr><th></th><th scope=col>dateRep</th><th scope=col>cases</th><th scope=col>countries</th></tr>\n",
       "\t<tr><th></th><th scope=col>&lt;fct&gt;</th><th scope=col>&lt;int&gt;</th><th scope=col>&lt;fct&gt;</th></tr>\n",
       "</thead>\n",
       "<tbody>\n",
       "\t<tr><th scope=row>15</th><td>22-09-20</td><td>17213</td><td>Argentina</td></tr>\n",
       "</tbody>\n",
       "</table>\n"
      ],
      "text/latex": [
       "A data.frame: 1 × 3\n",
       "\\begin{tabular}{r|lll}\n",
       "  & dateRep & cases & countries\\\\\n",
       "  & <fct> & <int> & <fct>\\\\\n",
       "\\hline\n",
       "\t15 & 22-09-20 & 17213 & Argentina\\\\\n",
       "\\end{tabular}\n"
      ],
      "text/markdown": [
       "\n",
       "A data.frame: 1 × 3\n",
       "\n",
       "| <!--/--> | dateRep &lt;fct&gt; | cases &lt;int&gt; | countries &lt;fct&gt; |\n",
       "|---|---|---|---|\n",
       "| 15 | 22-09-20 | 17213 | Argentina |\n",
       "\n"
      ],
      "text/plain": [
       "   dateRep  cases countries\n",
       "15 22-09-20 17213 Argentina"
      ]
     },
     "metadata": {},
     "output_type": "display_data"
    },
    {
     "data": {
      "text/html": [
       "<table>\n",
       "<caption>A data.frame: 0 × 3</caption>\n",
       "<thead>\n",
       "\t<tr><th scope=col>dateRep</th><th scope=col>cases</th><th scope=col>countries</th></tr>\n",
       "\t<tr><th scope=col>&lt;fct&gt;</th><th scope=col>&lt;int&gt;</th><th scope=col>&lt;fct&gt;</th></tr>\n",
       "</thead>\n",
       "<tbody>\n",
       "</tbody>\n",
       "</table>\n"
      ],
      "text/latex": [
       "A data.frame: 0 × 3\n",
       "\\begin{tabular}{lll}\n",
       " dateRep & cases & countries\\\\\n",
       " <fct> & <int> & <fct>\\\\\n",
       "\\hline\n",
       "\\end{tabular}\n"
      ],
      "text/markdown": [
       "\n",
       "A data.frame: 0 × 3\n",
       "\n",
       "| dateRep &lt;fct&gt; | cases &lt;int&gt; | countries &lt;fct&gt; |\n",
       "|---|---|---|\n",
       "\n"
      ],
      "text/plain": [
       "     dateRep cases countries"
      ]
     },
     "metadata": {},
     "output_type": "display_data"
    }
   ],
   "source": [
    "subset(Ar,cases>BS)\n",
    "subset(Ar,cases<BI)"
   ]
  },
  {
   "cell_type": "code",
   "execution_count": 34,
   "metadata": {},
   "outputs": [],
   "source": [
    "# hay datos atipicos 1"
   ]
  },
  {
   "cell_type": "code",
   "execution_count": 52,
   "metadata": {},
   "outputs": [
    {
     "data": {
      "text/html": [
       "<table>\n",
       "<caption>A data.frame: 1 × 3</caption>\n",
       "<thead>\n",
       "\t<tr><th></th><th scope=col>dateRep</th><th scope=col>cases</th><th scope=col>countries</th></tr>\n",
       "\t<tr><th></th><th scope=col>&lt;fct&gt;</th><th scope=col>&lt;int&gt;</th><th scope=col>&lt;fct&gt;</th></tr>\n",
       "</thead>\n",
       "<tbody>\n",
       "\t<tr><th scope=row>266</th><td>16-08-20</td><td>2687</td><td>Bolivia</td></tr>\n",
       "</tbody>\n",
       "</table>\n"
      ],
      "text/latex": [
       "A data.frame: 1 × 3\n",
       "\\begin{tabular}{r|lll}\n",
       "  & dateRep & cases & countries\\\\\n",
       "  & <fct> & <int> & <fct>\\\\\n",
       "\\hline\n",
       "\t266 & 16-08-20 & 2687 & Bolivia\\\\\n",
       "\\end{tabular}\n"
      ],
      "text/markdown": [
       "\n",
       "A data.frame: 1 × 3\n",
       "\n",
       "| <!--/--> | dateRep &lt;fct&gt; | cases &lt;int&gt; | countries &lt;fct&gt; |\n",
       "|---|---|---|---|\n",
       "| 266 | 16-08-20 | 2687 | Bolivia |\n",
       "\n"
      ],
      "text/plain": [
       "    dateRep  cases countries\n",
       "266 16-08-20 2687  Bolivia  "
      ]
     },
     "metadata": {},
     "output_type": "display_data"
    },
    {
     "data": {
      "text/html": [
       "<table>\n",
       "<caption>A data.frame: 0 × 3</caption>\n",
       "<thead>\n",
       "\t<tr><th scope=col>dateRep</th><th scope=col>cases</th><th scope=col>countries</th></tr>\n",
       "\t<tr><th scope=col>&lt;fct&gt;</th><th scope=col>&lt;int&gt;</th><th scope=col>&lt;fct&gt;</th></tr>\n",
       "</thead>\n",
       "<tbody>\n",
       "</tbody>\n",
       "</table>\n"
      ],
      "text/latex": [
       "A data.frame: 0 × 3\n",
       "\\begin{tabular}{lll}\n",
       " dateRep & cases & countries\\\\\n",
       " <fct> & <int> & <fct>\\\\\n",
       "\\hline\n",
       "\\end{tabular}\n"
      ],
      "text/markdown": [
       "\n",
       "A data.frame: 0 × 3\n",
       "\n",
       "| dateRep &lt;fct&gt; | cases &lt;int&gt; | countries &lt;fct&gt; |\n",
       "|---|---|---|\n",
       "\n"
      ],
      "text/plain": [
       "     dateRep cases countries"
      ]
     },
     "metadata": {},
     "output_type": "display_data"
    }
   ],
   "source": [
    "Ar = subset(data,countries=='Bolivia')\n",
    "IQR= quantile(Ar$cases,0.75) - quantile(Ar$cases,0.25)\n",
    "LI = quantile(Ar$cases,0.25) - 1.5*IQR\n",
    "LS = quantile(Ar$cases,0.75) + 1.5*IQR\n",
    "BI = max(min(Ar$cases),LI)\n",
    "BS = min(max(Ar$cases),LS)\n",
    "subset(Ar,cases>BS)\n",
    "subset(Ar,cases<BI)"
   ]
  },
  {
   "cell_type": "code",
   "execution_count": 36,
   "metadata": {},
   "outputs": [],
   "source": [
    "# hay datos atipicos, 1 solo"
   ]
  },
  {
   "cell_type": "code",
   "execution_count": 53,
   "metadata": {},
   "outputs": [
    {
     "data": {
      "text/html": [
       "<table>\n",
       "<caption>A data.frame: 6 × 3</caption>\n",
       "<thead>\n",
       "\t<tr><th></th><th scope=col>dateRep</th><th scope=col>cases</th><th scope=col>countries</th></tr>\n",
       "\t<tr><th></th><th scope=col>&lt;fct&gt;</th><th scope=col>&lt;int&gt;</th><th scope=col>&lt;fct&gt;</th></tr>\n",
       "</thead>\n",
       "<tbody>\n",
       "\t<tr><th scope=row>531</th><td>20-06-20</td><td> 6290</td><td>Chile</td></tr>\n",
       "\t<tr><th scope=row>533</th><td>18-06-20</td><td>36179</td><td>Chile</td></tr>\n",
       "\t<tr><th scope=row>536</th><td>15-06-20</td><td> 6938</td><td>Chile</td></tr>\n",
       "\t<tr><th scope=row>537</th><td>14-06-20</td><td> 6509</td><td>Chile</td></tr>\n",
       "\t<tr><th scope=row>538</th><td>13-06-20</td><td> 6754</td><td>Chile</td></tr>\n",
       "\t<tr><th scope=row>543</th><td>08-06-20</td><td> 6405</td><td>Chile</td></tr>\n",
       "</tbody>\n",
       "</table>\n"
      ],
      "text/latex": [
       "A data.frame: 6 × 3\n",
       "\\begin{tabular}{r|lll}\n",
       "  & dateRep & cases & countries\\\\\n",
       "  & <fct> & <int> & <fct>\\\\\n",
       "\\hline\n",
       "\t531 & 20-06-20 &  6290 & Chile\\\\\n",
       "\t533 & 18-06-20 & 36179 & Chile\\\\\n",
       "\t536 & 15-06-20 &  6938 & Chile\\\\\n",
       "\t537 & 14-06-20 &  6509 & Chile\\\\\n",
       "\t538 & 13-06-20 &  6754 & Chile\\\\\n",
       "\t543 & 08-06-20 &  6405 & Chile\\\\\n",
       "\\end{tabular}\n"
      ],
      "text/markdown": [
       "\n",
       "A data.frame: 6 × 3\n",
       "\n",
       "| <!--/--> | dateRep &lt;fct&gt; | cases &lt;int&gt; | countries &lt;fct&gt; |\n",
       "|---|---|---|---|\n",
       "| 531 | 20-06-20 |  6290 | Chile |\n",
       "| 533 | 18-06-20 | 36179 | Chile |\n",
       "| 536 | 15-06-20 |  6938 | Chile |\n",
       "| 537 | 14-06-20 |  6509 | Chile |\n",
       "| 538 | 13-06-20 |  6754 | Chile |\n",
       "| 543 | 08-06-20 |  6405 | Chile |\n",
       "\n"
      ],
      "text/plain": [
       "    dateRep  cases countries\n",
       "531 20-06-20  6290 Chile    \n",
       "533 18-06-20 36179 Chile    \n",
       "536 15-06-20  6938 Chile    \n",
       "537 14-06-20  6509 Chile    \n",
       "538 13-06-20  6754 Chile    \n",
       "543 08-06-20  6405 Chile    "
      ]
     },
     "metadata": {},
     "output_type": "display_data"
    },
    {
     "data": {
      "text/html": [
       "<table>\n",
       "<caption>A data.frame: 0 × 3</caption>\n",
       "<thead>\n",
       "\t<tr><th scope=col>dateRep</th><th scope=col>cases</th><th scope=col>countries</th></tr>\n",
       "\t<tr><th scope=col>&lt;fct&gt;</th><th scope=col>&lt;int&gt;</th><th scope=col>&lt;fct&gt;</th></tr>\n",
       "</thead>\n",
       "<tbody>\n",
       "</tbody>\n",
       "</table>\n"
      ],
      "text/latex": [
       "A data.frame: 0 × 3\n",
       "\\begin{tabular}{lll}\n",
       " dateRep & cases & countries\\\\\n",
       " <fct> & <int> & <fct>\\\\\n",
       "\\hline\n",
       "\\end{tabular}\n"
      ],
      "text/markdown": [
       "\n",
       "A data.frame: 0 × 3\n",
       "\n",
       "| dateRep &lt;fct&gt; | cases &lt;int&gt; | countries &lt;fct&gt; |\n",
       "|---|---|---|\n",
       "\n"
      ],
      "text/plain": [
       "     dateRep cases countries"
      ]
     },
     "metadata": {},
     "output_type": "display_data"
    }
   ],
   "source": [
    "Ar = subset(data,countries=='Chile')\n",
    "IQR= quantile(Ar$cases,0.75) - quantile(Ar$cases,0.25)\n",
    "LI = quantile(Ar$cases,0.25) - 1.5*IQR\n",
    "LS = quantile(Ar$cases,0.75) + 1.5*IQR\n",
    "BI = max(min(Ar$cases),LI)\n",
    "BS = min(max(Ar$cases),LS)\n",
    "subset(Ar,cases>BS)\n",
    "subset(Ar,cases<BI)"
   ]
  },
  {
   "cell_type": "code",
   "execution_count": 54,
   "metadata": {},
   "outputs": [],
   "source": [
    "# Hay 6"
   ]
  },
  {
   "cell_type": "code",
   "execution_count": 55,
   "metadata": {},
   "outputs": [
    {
     "data": {
      "text/html": [
       "<table>\n",
       "<caption>A data.frame: 0 × 3</caption>\n",
       "<thead>\n",
       "\t<tr><th scope=col>dateRep</th><th scope=col>cases</th><th scope=col>countries</th></tr>\n",
       "\t<tr><th scope=col>&lt;fct&gt;</th><th scope=col>&lt;int&gt;</th><th scope=col>&lt;fct&gt;</th></tr>\n",
       "</thead>\n",
       "<tbody>\n",
       "</tbody>\n",
       "</table>\n"
      ],
      "text/latex": [
       "A data.frame: 0 × 3\n",
       "\\begin{tabular}{lll}\n",
       " dateRep & cases & countries\\\\\n",
       " <fct> & <int> & <fct>\\\\\n",
       "\\hline\n",
       "\\end{tabular}\n"
      ],
      "text/markdown": [
       "\n",
       "A data.frame: 0 × 3\n",
       "\n",
       "| dateRep &lt;fct&gt; | cases &lt;int&gt; | countries &lt;fct&gt; |\n",
       "|---|---|---|\n",
       "\n"
      ],
      "text/plain": [
       "     dateRep cases countries"
      ]
     },
     "metadata": {},
     "output_type": "display_data"
    },
    {
     "data": {
      "text/html": [
       "<table>\n",
       "<caption>A data.frame: 0 × 3</caption>\n",
       "<thead>\n",
       "\t<tr><th scope=col>dateRep</th><th scope=col>cases</th><th scope=col>countries</th></tr>\n",
       "\t<tr><th scope=col>&lt;fct&gt;</th><th scope=col>&lt;int&gt;</th><th scope=col>&lt;fct&gt;</th></tr>\n",
       "</thead>\n",
       "<tbody>\n",
       "</tbody>\n",
       "</table>\n"
      ],
      "text/latex": [
       "A data.frame: 0 × 3\n",
       "\\begin{tabular}{lll}\n",
       " dateRep & cases & countries\\\\\n",
       " <fct> & <int> & <fct>\\\\\n",
       "\\hline\n",
       "\\end{tabular}\n"
      ],
      "text/markdown": [
       "\n",
       "A data.frame: 0 × 3\n",
       "\n",
       "| dateRep &lt;fct&gt; | cases &lt;int&gt; | countries &lt;fct&gt; |\n",
       "|---|---|---|\n",
       "\n"
      ],
      "text/plain": [
       "     dateRep cases countries"
      ]
     },
     "metadata": {},
     "output_type": "display_data"
    }
   ],
   "source": [
    "Ar = subset(data,countries=='Peru')\n",
    "IQR= quantile(Ar$cases,0.75) - quantile(Ar$cases,0.25)\n",
    "LI = quantile(Ar$cases,0.25) - 1.5*IQR\n",
    "LS = quantile(Ar$cases,0.75) + 1.5*IQR\n",
    "BI = max(min(Ar$cases),LI)\n",
    "BS = min(max(Ar$cases),LS)\n",
    "subset(Ar,cases>BS)\n",
    "subset(Ar,cases<BI)"
   ]
  },
  {
   "cell_type": "code",
   "execution_count": 56,
   "metadata": {},
   "outputs": [],
   "source": [
    "# no hay en peru"
   ]
  },
  {
   "cell_type": "code",
   "execution_count": null,
   "metadata": {},
   "outputs": [],
   "source": []
  }
 ],
 "metadata": {
  "kernelspec": {
   "display_name": "R",
   "language": "R",
   "name": "ir"
  },
  "language_info": {
   "codemirror_mode": "r",
   "file_extension": ".r",
   "mimetype": "text/x-r-source",
   "name": "R",
   "pygments_lexer": "r",
   "version": "3.6.1"
  }
 },
 "nbformat": 4,
 "nbformat_minor": 4
}
