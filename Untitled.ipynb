{
 "cells": [
  {
   "cell_type": "code",
   "execution_count": 1,
   "metadata": {},
   "outputs": [],
   "source": [
    "data = read.csv('covid.csv',sep=';')"
   ]
  },
  {
   "cell_type": "code",
   "execution_count": 2,
   "metadata": {},
   "outputs": [],
   "source": [
    "# 1a\n",
    "# No es apropiado pues, los datos no son simetricos y existen muchos outliers.\n",
    "# Justificación simetria:"
   ]
  },
  {
   "cell_type": "code",
   "execution_count": 3,
   "metadata": {},
   "outputs": [
    {
     "data": {
      "text/html": [
       "2642.26439482961"
      ],
      "text/latex": [
       "2642.26439482961"
      ],
      "text/markdown": [
       "2642.26439482961"
      ],
      "text/plain": [
       "[1] 2642.264"
      ]
     },
     "metadata": {},
     "output_type": "display_data"
    },
    {
     "data": {
      "text/html": [
       "1515"
      ],
      "text/latex": [
       "1515"
      ],
      "text/markdown": [
       "1515"
      ],
      "text/plain": [
       "[1] 1515"
      ]
     },
     "metadata": {},
     "output_type": "display_data"
    }
   ],
   "source": [
    "mean(data$cases)\n",
    "median(data$cases)"
   ]
  },
  {
   "cell_type": "code",
   "execution_count": 4,
   "metadata": {},
   "outputs": [],
   "source": [
    "# mediana es menor por mucho que el promedio por lo tanto los datos no son simetricos."
   ]
  },
  {
   "cell_type": "code",
   "execution_count": 5,
   "metadata": {},
   "outputs": [
    {
     "data": {
      "text/html": [
       "<strong>75%:</strong> 9456.25"
      ],
      "text/latex": [
       "\\textbf{75\\textbackslash{}\\%:} 9456.25"
      ],
      "text/markdown": [
       "**75%:** 9456.25"
      ],
      "text/plain": [
       "    75% \n",
       "9456.25 "
      ]
     },
     "metadata": {},
     "output_type": "display_data"
    }
   ],
   "source": [
    "LS = quantile(data$cases,0.75) + 1.5*(quantile(data$cases,0.75)- quantile(data$cases,0.25))\n",
    "LS"
   ]
  },
  {
   "cell_type": "code",
   "execution_count": 6,
   "metadata": {},
   "outputs": [
    {
     "data": {
      "text/html": [
       "35"
      ],
      "text/latex": [
       "35"
      ],
      "text/markdown": [
       "35"
      ],
      "text/plain": [
       "[1] 35"
      ]
     },
     "metadata": {},
     "output_type": "display_data"
    }
   ],
   "source": [
    "noutliers = length((subset(data,cases>LS)$cases))\n",
    "noutliers"
   ]
  },
  {
   "cell_type": "code",
   "execution_count": 7,
   "metadata": {},
   "outputs": [],
   "source": [
    "# existen 35 outliers superiormente."
   ]
  },
  {
   "cell_type": "code",
   "execution_count": 8,
   "metadata": {},
   "outputs": [
    {
     "data": {
      "text/html": [
       "-573.74097052865"
      ],
      "text/latex": [
       "-573.74097052865"
      ],
      "text/markdown": [
       "-573.74097052865"
      ],
      "text/plain": [
       "[1] -573.741"
      ]
     },
     "metadata": {},
     "output_type": "display_data"
    },
    {
     "data": {
      "text/html": [
       "5858.26976018788"
      ],
      "text/latex": [
       "5858.26976018788"
      ],
      "text/markdown": [
       "5858.26976018788"
      ],
      "text/plain": [
       "[1] 5858.27"
      ]
     },
     "metadata": {},
     "output_type": "display_data"
    }
   ],
   "source": [
    "# 1b\n",
    "CI = mean(data$cases) - sd(data$cases)\n",
    "CS = mean(data$cases) + sd(data$cases)\n",
    "CI\n",
    "CS"
   ]
  },
  {
   "cell_type": "code",
   "execution_count": 9,
   "metadata": {},
   "outputs": [
    {
     "data": {
      "text/html": [
       "0.855464159811986"
      ],
      "text/latex": [
       "0.855464159811986"
      ],
      "text/markdown": [
       "0.855464159811986"
      ],
      "text/plain": [
       "[1] 0.8554642"
      ]
     },
     "metadata": {},
     "output_type": "display_data"
    }
   ],
   "source": [
    "length(subset(data,cases>CI & cases < CS)$cases)/length(data$cases)"
   ]
  },
  {
   "cell_type": "code",
   "execution_count": 10,
   "metadata": {},
   "outputs": [],
   "source": [
    "# un 85.54% de los datos se encuentra en el intervalo pedido."
   ]
  },
  {
   "cell_type": "code",
   "execution_count": 11,
   "metadata": {},
   "outputs": [
    {
     "data": {
      "text/plain": [
       "\n",
       "Argentina   Bolivia     Chile      Peru \n",
       "      214       208       216       213 "
      ]
     },
     "metadata": {},
     "output_type": "display_data"
    }
   ],
   "source": [
    "# 1c \n",
    "table(data$countries)"
   ]
  },
  {
   "cell_type": "code",
   "execution_count": 12,
   "metadata": {},
   "outputs": [
    {
     "data": {
      "text/html": [
       "1"
      ],
      "text/latex": [
       "1"
      ],
      "text/markdown": [
       "1"
      ],
      "text/plain": [
       "[1] 1"
      ]
     },
     "metadata": {},
     "output_type": "display_data"
    }
   ],
   "source": [
    "# Argentina\n",
    "pais = subset(data,countries == 'Argentina')\n",
    "LI = quantile(pais$cases,0.25) - 1.5*(quantile(pais$cases,0.75)- quantile(pais$cases,0.25))\n",
    "LS = quantile(pais$cases,0.75) + 1.5*(quantile(pais$cases,0.75)- quantile(pais$cases,0.25))\n",
    "length(subset(pais,cases<LI | cases>LS)$cases)"
   ]
  },
  {
   "cell_type": "code",
   "execution_count": 13,
   "metadata": {},
   "outputs": [
    {
     "data": {
      "text/html": [
       "1"
      ],
      "text/latex": [
       "1"
      ],
      "text/markdown": [
       "1"
      ],
      "text/plain": [
       "[1] 1"
      ]
     },
     "metadata": {},
     "output_type": "display_data"
    }
   ],
   "source": [
    "# Bolivia\n",
    "pais = subset(data,countries == 'Bolivia')\n",
    "LI = quantile(pais$cases,0.25) - 1.5*(quantile(pais$cases,0.75)- quantile(pais$cases,0.25))\n",
    "LS = quantile(pais$cases,0.75) + 1.5*(quantile(pais$cases,0.75)- quantile(pais$cases,0.25))\n",
    "length(subset(pais,cases<LI | cases>LS)$cases)"
   ]
  },
  {
   "cell_type": "code",
   "execution_count": 14,
   "metadata": {},
   "outputs": [
    {
     "data": {
      "text/html": [
       "6"
      ],
      "text/latex": [
       "6"
      ],
      "text/markdown": [
       "6"
      ],
      "text/plain": [
       "[1] 6"
      ]
     },
     "metadata": {},
     "output_type": "display_data"
    }
   ],
   "source": [
    "# Chile\n",
    "pais = subset(data,countries == 'Chile')\n",
    "LI = quantile(pais$cases,0.25) - 1.5*(quantile(pais$cases,0.75)- quantile(pais$cases,0.25))\n",
    "LS = quantile(pais$cases,0.75) + 1.5*(quantile(pais$cases,0.75)- quantile(pais$cases,0.25))\n",
    "length(subset(pais,cases<LI | cases>LS)$cases)"
   ]
  },
  {
   "cell_type": "code",
   "execution_count": 15,
   "metadata": {},
   "outputs": [
    {
     "data": {
      "text/html": [
       "0"
      ],
      "text/latex": [
       "0"
      ],
      "text/markdown": [
       "0"
      ],
      "text/plain": [
       "[1] 0"
      ]
     },
     "metadata": {},
     "output_type": "display_data"
    }
   ],
   "source": [
    "# Peru\n",
    "pais = subset(data,countries == 'Peru')\n",
    "LI = quantile(pais$cases,0.25) - 1.5*(quantile(pais$cases,0.75)- quantile(pais$cases,0.25))\n",
    "LS = quantile(pais$cases,0.75) + 1.5*(quantile(pais$cases,0.75)- quantile(pais$cases,0.25))\n",
    "length(subset(pais,cases<LI | cases>LS)$cases)"
   ]
  },
  {
   "cell_type": "code",
   "execution_count": 16,
   "metadata": {},
   "outputs": [
    {
     "data": {
      "text/html": [
       "1.15736148188216"
      ],
      "text/latex": [
       "1.15736148188216"
      ],
      "text/markdown": [
       "1.15736148188216"
      ],
      "text/plain": [
       "[1] 1.157361"
      ]
     },
     "metadata": {},
     "output_type": "display_data"
    },
    {
     "data": {
      "text/html": [
       "0.898016325363451"
      ],
      "text/latex": [
       "0.898016325363451"
      ],
      "text/markdown": [
       "0.898016325363451"
      ],
      "text/plain": [
       "[1] 0.8980163"
      ]
     },
     "metadata": {},
     "output_type": "display_data"
    },
    {
     "data": {
      "text/html": [
       "1.29121008354382"
      ],
      "text/latex": [
       "1.29121008354382"
      ],
      "text/markdown": [
       "1.29121008354382"
      ],
      "text/plain": [
       "[1] 1.29121"
      ]
     },
     "metadata": {},
     "output_type": "display_data"
    },
    {
     "data": {
      "text/html": [
       "0.670444542721147"
      ],
      "text/latex": [
       "0.670444542721147"
      ],
      "text/markdown": [
       "0.670444542721147"
      ],
      "text/plain": [
       "[1] 0.6704445"
      ]
     },
     "metadata": {},
     "output_type": "display_data"
    }
   ],
   "source": [
    "# 1d\n",
    "pais = subset(data,countries == 'Argentina')\n",
    "sd(pais$cases)/mean(pais$cases)\n",
    "pais = subset(data,countries == 'Bolivia')\n",
    "sd(pais$cases)/mean(pais$cases)\n",
    "pais = subset(data,countries == 'Chile')\n",
    "sd(pais$cases)/mean(pais$cases)\n",
    "pais = subset(data,countries == 'Peru')\n",
    "sd(pais$cases)/mean(pais$cases)"
   ]
  },
  {
   "cell_type": "code",
   "execution_count": 17,
   "metadata": {},
   "outputs": [],
   "source": [
    "# 1e\n"
   ]
  },
  {
   "cell_type": "code",
   "execution_count": 18,
   "metadata": {},
   "outputs": [],
   "source": [
    "# 2a\n",
    "# Creación tabla\n",
    "X = c(rep(20,4),rep(30,2),rep(20,2),rep(30,6),rep(40,2),rep(50,2),rep(20,2),rep(30,3),rep(40,5),rep(50,3),rep(60,2),30,rep(40,4),rep(50,6),60,60,30,rep(50,2),rep(60,1))\n",
    "Y = c(rep(15,6),rep(20,12),rep(25,15),rep(30,13),rep(35,4))"
   ]
  },
  {
   "cell_type": "code",
   "execution_count": 19,
   "metadata": {},
   "outputs": [
    {
     "data": {
      "text/plain": [
       "    Y\n",
       "X    15 20 25 30 35\n",
       "  20  4  2  2  0  0\n",
       "  30  2  6  3  1  1\n",
       "  40  0  2  5  4  0\n",
       "  50  0  2  3  6  2\n",
       "  60  0  0  2  2  1"
      ]
     },
     "metadata": {},
     "output_type": "display_data"
    }
   ],
   "source": [
    "table(X,Y)"
   ]
  },
  {
   "cell_type": "code",
   "execution_count": 20,
   "metadata": {},
   "outputs": [
    {
     "data": {
      "text/html": [
       "<style>\n",
       ".dl-inline {width: auto; margin:0; padding: 0}\n",
       ".dl-inline>dt, .dl-inline>dd {float: none; width: auto; display: inline-block}\n",
       ".dl-inline>dt::after {content: \":\\0020\"; padding-right: .5ex}\n",
       ".dl-inline>dt:not(:first-of-type) {padding-left: .5ex}\n",
       "</style><dl class=dl-inline><dt>0%</dt><dd>20</dd><dt>25%</dt><dd>30</dd><dt>50%</dt><dd>40</dd><dt>75%</dt><dd>50</dd><dt>100%</dt><dd>60</dd></dl>\n"
      ],
      "text/latex": [
       "\\begin{description*}\n",
       "\\item[0\\textbackslash{}\\%] 20\n",
       "\\item[25\\textbackslash{}\\%] 30\n",
       "\\item[50\\textbackslash{}\\%] 40\n",
       "\\item[75\\textbackslash{}\\%] 50\n",
       "\\item[100\\textbackslash{}\\%] 60\n",
       "\\end{description*}\n"
      ],
      "text/markdown": [
       "0%\n",
       ":   2025%\n",
       ":   3050%\n",
       ":   4075%\n",
       ":   50100%\n",
       ":   60\n",
       "\n"
      ],
      "text/plain": [
       "  0%  25%  50%  75% 100% \n",
       "  20   30   40   50   60 "
      ]
     },
     "metadata": {},
     "output_type": "display_data"
    },
    {
     "data": {
      "text/html": [
       "157.714285714286"
      ],
      "text/latex": [
       "157.714285714286"
      ],
      "text/markdown": [
       "157.714285714286"
      ],
      "text/plain": [
       "[1] 157.7143"
      ]
     },
     "metadata": {},
     "output_type": "display_data"
    },
    {
     "data": {
      "text/html": [
       "12.5584348433348"
      ],
      "text/latex": [
       "12.5584348433348"
      ],
      "text/markdown": [
       "12.5584348433348"
      ],
      "text/plain": [
       "[1] 12.55843"
      ]
     },
     "metadata": {},
     "output_type": "display_data"
    },
    {
     "data": {
      "text/html": [
       "0.323671001116876"
      ],
      "text/latex": [
       "0.323671001116876"
      ],
      "text/markdown": [
       "0.323671001116876"
      ],
      "text/plain": [
       "[1] 0.323671"
      ]
     },
     "metadata": {},
     "output_type": "display_data"
    },
    {
     "data": {
      "text/html": [
       "<style>\n",
       ".dl-inline {width: auto; margin:0; padding: 0}\n",
       ".dl-inline>dt, .dl-inline>dd {float: none; width: auto; display: inline-block}\n",
       ".dl-inline>dt::after {content: \":\\0020\"; padding-right: .5ex}\n",
       ".dl-inline>dt:not(:first-of-type) {padding-left: .5ex}\n",
       "</style><dl class=dl-inline><dt>0%</dt><dd>15</dd><dt>25%</dt><dd>20</dd><dt>50%</dt><dd>25</dd><dt>75%</dt><dd>30</dd><dt>100%</dt><dd>35</dd></dl>\n"
      ],
      "text/latex": [
       "\\begin{description*}\n",
       "\\item[0\\textbackslash{}\\%] 15\n",
       "\\item[25\\textbackslash{}\\%] 20\n",
       "\\item[50\\textbackslash{}\\%] 25\n",
       "\\item[75\\textbackslash{}\\%] 30\n",
       "\\item[100\\textbackslash{}\\%] 35\n",
       "\\end{description*}\n"
      ],
      "text/markdown": [
       "0%\n",
       ":   1525%\n",
       ":   2050%\n",
       ":   2575%\n",
       ":   30100%\n",
       ":   35\n",
       "\n"
      ],
      "text/plain": [
       "  0%  25%  50%  75% 100% \n",
       "  15   20   25   30   35 "
      ]
     },
     "metadata": {},
     "output_type": "display_data"
    },
    {
     "data": {
      "text/html": [
       "33.0714285714286"
      ],
      "text/latex": [
       "33.0714285714286"
      ],
      "text/markdown": [
       "33.0714285714286"
      ],
      "text/plain": [
       "[1] 33.07143"
      ]
     },
     "metadata": {},
     "output_type": "display_data"
    },
    {
     "data": {
      "text/html": [
       "5.75077634510581"
      ],
      "text/latex": [
       "5.75077634510581"
      ],
      "text/markdown": [
       "5.75077634510581"
      ],
      "text/plain": [
       "[1] 5.750776"
      ]
     },
     "metadata": {},
     "output_type": "display_data"
    },
    {
     "data": {
      "text/html": [
       "0.23282495324315"
      ],
      "text/latex": [
       "0.23282495324315"
      ],
      "text/markdown": [
       "0.23282495324315"
      ],
      "text/plain": [
       "[1] 0.232825"
      ]
     },
     "metadata": {},
     "output_type": "display_data"
    }
   ],
   "source": [
    "#2a\n",
    "quantile(X)\n",
    "var(X)\n",
    "sd(X)\n",
    "sd(X)/mean(X)\n",
    "\n",
    "quantile(Y)\n",
    "var(Y)\n",
    "sd(Y)\n",
    "sd(Y)/mean(Y)"
   ]
  },
  {
   "cell_type": "code",
   "execution_count": 28,
   "metadata": {},
   "outputs": [
    {
     "data": {
      "text/html": [
       "43.5102040816327"
      ],
      "text/latex": [
       "43.5102040816327"
      ],
      "text/markdown": [
       "43.5102040816327"
      ],
      "text/plain": [
       "[1] 43.5102"
      ]
     },
     "metadata": {},
     "output_type": "display_data"
    },
    {
     "data": {
      "text/html": [
       "0.602461260294317"
      ],
      "text/latex": [
       "0.602461260294317"
      ],
      "text/markdown": [
       "0.602461260294317"
      ],
      "text/plain": [
       "[1] 0.6024613"
      ]
     },
     "metadata": {},
     "output_type": "display_data"
    }
   ],
   "source": [
    "cov(X,Y)\n",
    "cor(X,Y)\n",
    "# Existe y es de un 60%"
   ]
  },
  {
   "cell_type": "code",
   "execution_count": 22,
   "metadata": {},
   "outputs": [],
   "source": [
    "# 2c Si, pues existe dependencia lineal directa es decir\n",
    "# a medida que aumenta el X aumenta el Y\n",
    "# aumenta edad --> aumento estrogeno que le meto."
   ]
  },
  {
   "cell_type": "code",
   "execution_count": 23,
   "metadata": {},
   "outputs": [
    {
     "data": {
      "text/plain": [
       "\n",
       "Call:\n",
       "lm(formula = Y ~ X)\n",
       "\n",
       "Coefficients:\n",
       "(Intercept)            X  \n",
       "    13.9959       0.2759  \n"
      ]
     },
     "metadata": {},
     "output_type": "display_data"
    }
   ],
   "source": [
    "#2d\n",
    "lm(Y~X)"
   ]
  },
  {
   "cell_type": "code",
   "execution_count": 24,
   "metadata": {},
   "outputs": [
    {
     "data": {
      "text/html": [
       "25.9090909090909"
      ],
      "text/latex": [
       "25.9090909090909"
      ],
      "text/markdown": [
       "25.9090909090909"
      ],
      "text/plain": [
       "[1] 25.90909"
      ]
     },
     "metadata": {},
     "output_type": "display_data"
    }
   ],
   "source": [
    "#2e\n",
    "mean(subset(data.frame(cbind(X,Y)),X==40)$Y)"
   ]
  },
  {
   "cell_type": "code",
   "execution_count": 25,
   "metadata": {},
   "outputs": [
    {
     "data": {
      "text/html": [
       "25.0319"
      ],
      "text/latex": [
       "25.0319"
      ],
      "text/markdown": [
       "25.0319"
      ],
      "text/plain": [
       "[1] 25.0319"
      ]
     },
     "metadata": {},
     "output_type": "display_data"
    }
   ],
   "source": [
    "13.9959 + 40*0.2759"
   ]
  }
 ],
 "metadata": {
  "kernelspec": {
   "display_name": "R",
   "language": "R",
   "name": "ir"
  },
  "language_info": {
   "codemirror_mode": "r",
   "file_extension": ".r",
   "mimetype": "text/x-r-source",
   "name": "R",
   "pygments_lexer": "r",
   "version": "3.6.1"
  }
 },
 "nbformat": 4,
 "nbformat_minor": 4
}
