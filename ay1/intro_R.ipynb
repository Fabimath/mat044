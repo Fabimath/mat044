{
 "cells": [
  {
   "cell_type": "markdown",
   "metadata": {},
   "source": [
    "# Introducción al R\n",
    "## Por: Fabián Ramírez\n",
    "\n",
    "# Objetivos:\n",
    "* Instalar Software R.\n",
    "* Conocer los beneficios de útilizar un software estadístico.\n",
    "* Leer bases de datos.\n",
    "* Filtrar Bases de Datos"
   ]
  },
  {
   "cell_type": "markdown",
   "metadata": {},
   "source": [
    "# ¿Qué es R? \n",
    "\n",
    "R es un lenguaje de programación enfocado a objetos, utilizada generalmente por gente que quiere realizar un estudio estadístico con la finalidad de tomar una decisión.\n",
    "\n",
    "<img src=\"https://www.maximaformacion.es/wp-content/uploads/2018/08/Logo-R-Software-300x263.png\" width=\"100\" alt=\"utfsm-logo\" align=\"center\"/>\n",
    "\n",
    "Se prefiere frente a otros lenguajes puesto que:\n",
    "* Es **gratis** y de codigo libre.\n",
    "* Es simple en comparación a otros lenguajes.\n",
    "* Gran comunidad de programadores."
   ]
  },
  {
   "cell_type": "markdown",
   "metadata": {},
   "source": [
    "# Instalación del R\n",
    "\n",
    "La instalación de R depende de su sistema operativo (Windows, Linux o Mac), por tanto dejare el link de descarga oficial de R y desde el sitio web ustedes instalaran el R dependiendo de su sistema:\n",
    "* https://cran.dcc.uchile.cl/\n",
    "\n",
    "Por desgracia la plataforma para programar es poco amigable. Por tanto se recomienda instalar **R-studio, ¡además del R!** el cual es una plataforma para programar en R de forma mas amigable.\n",
    "\n",
    "<img src=\"https://rstudio.com/wp-content/uploads/2018/10/RStudio-Logo.png\" width=\"100\" alt=\"utfsm-logo\" align=\"center\"/>\n",
    "\n",
    "\n",
    "\n",
    "* https://rstudio.com/products/rstudio/download/\n",
    "\n",
    "De la misma forma que para el R buscan el instalador adecuado para su sistema operativo.\n",
    "\n",
    "# Conociendo el R\n",
    "## Bases de datos:\n",
    "Antes de utilizar el programa R es revisar la base de datos. Para ello se recomienda abrir la base de datos mediante algún programa como excel o libre office y deben fijarse que:\n",
    "* El nombre de las variables no tenga espacios, por ejemplo si una variable se llama *clase social* debes renombrarla a *clase_social*, es común en programación cambiar los ' ' por '.'. En todo caso el R automaticamente cambia los espacios por '.' aún asi sigue siendo de buena costumbre.\n",
    "* Ver que la base de datos este completa. No tenga datos faltantes, o errores de tipeo.\n",
    "* **Imporante**. La base de datos debe ser guardada en formato *csv* de esa forma facilita al programa leer las bases de datos.\n",
    "\n",
    "El formato *.csv* es un formato de guardado en un excel, lo que hace es crear un archivo de texto que divide las filas y columnas del excel a traves de puntos y comas. En este formato el R es capaz de leer la base de datos de una forma rápida y sin errores.\n",
    "\n",
    "Para guardar un archivo excel en formato *.csv* cuando colocas *guardar como* en la parte inferior del nombre debes buscar formato *.csv*"
   ]
  },
  {
   "cell_type": "markdown",
   "metadata": {},
   "source": [
    "## Leer bases de datos:\n",
    "Para leer una base de datos en formato *.csv* la base de datos debe estar en la misma carpeta que se encuentra a la derecha del RStudio tal como lo indica la siguiente imagen:\n",
    "\n",
    "![im1](im1.png)\n",
    "\n",
    "\n",
    "Luego de eso debes utilizar la función `read.csv('nombre_del_archivo_en_comillas')`. Además es usual guardar los datos en una variable que generalmente se le llama `data`. (se suele usar también `datos` o `df`).\n",
    "\n",
    "En caso de querer entrar a una carpeta para tener mayor organización en tus codigos y trabajos deberas utilizar el comando `setwd('nombre_de_la_carpeta_en_comillas')`.\n",
    "\n",
    "En el siguiente codigo se puede ver como se lee una base de datos:"
   ]
  },
  {
   "cell_type": "code",
   "execution_count": 83,
   "metadata": {},
   "outputs": [
    {
     "data": {
      "text/html": [
       "<table>\n",
       "<caption>A data.frame: 6 × 12</caption>\n",
       "<thead>\n",
       "\t<tr><th></th><th scope=col>X.</th><th scope=col>Name</th><th scope=col>Type.1</th><th scope=col>Type.2</th><th scope=col>HP</th><th scope=col>Attack</th><th scope=col>Defense</th><th scope=col>Sp..Atk</th><th scope=col>Sp..Def</th><th scope=col>Speed</th><th scope=col>Generation</th><th scope=col>Legendary</th></tr>\n",
       "\t<tr><th></th><th scope=col>&lt;int&gt;</th><th scope=col>&lt;chr&gt;</th><th scope=col>&lt;chr&gt;</th><th scope=col>&lt;chr&gt;</th><th scope=col>&lt;int&gt;</th><th scope=col>&lt;int&gt;</th><th scope=col>&lt;int&gt;</th><th scope=col>&lt;int&gt;</th><th scope=col>&lt;int&gt;</th><th scope=col>&lt;int&gt;</th><th scope=col>&lt;int&gt;</th><th scope=col>&lt;chr&gt;</th></tr>\n",
       "</thead>\n",
       "<tbody>\n",
       "\t<tr><th scope=row>1</th><td>1</td><td>Bulbasaur    </td><td>Grass</td><td>Poison</td><td>45</td><td> 49</td><td> 49</td><td> 65</td><td> 65</td><td>45</td><td>1</td><td>False</td></tr>\n",
       "\t<tr><th scope=row>2</th><td>2</td><td>Ivysaur      </td><td>Grass</td><td>Poison</td><td>60</td><td> 62</td><td> 63</td><td> 80</td><td> 80</td><td>60</td><td>1</td><td>False</td></tr>\n",
       "\t<tr><th scope=row>3</th><td>3</td><td>Venusaur     </td><td>Grass</td><td>Poison</td><td>80</td><td> 82</td><td> 83</td><td>100</td><td>100</td><td>80</td><td>1</td><td>False</td></tr>\n",
       "\t<tr><th scope=row>4</th><td>4</td><td>Mega Venusaur</td><td>Grass</td><td>Poison</td><td>80</td><td>100</td><td>123</td><td>122</td><td>120</td><td>80</td><td>1</td><td>False</td></tr>\n",
       "\t<tr><th scope=row>5</th><td>5</td><td>Charmander   </td><td>Fire </td><td>      </td><td>39</td><td> 52</td><td> 43</td><td> 60</td><td> 50</td><td>65</td><td>1</td><td>False</td></tr>\n",
       "\t<tr><th scope=row>6</th><td>6</td><td>Charmeleon   </td><td>Fire </td><td>      </td><td>58</td><td> 64</td><td> 58</td><td> 80</td><td> 65</td><td>80</td><td>1</td><td>False</td></tr>\n",
       "</tbody>\n",
       "</table>\n"
      ],
      "text/latex": [
       "A data.frame: 6 × 12\n",
       "\\begin{tabular}{r|llllllllllll}\n",
       "  & X. & Name & Type.1 & Type.2 & HP & Attack & Defense & Sp..Atk & Sp..Def & Speed & Generation & Legendary\\\\\n",
       "  & <int> & <chr> & <chr> & <chr> & <int> & <int> & <int> & <int> & <int> & <int> & <int> & <chr>\\\\\n",
       "\\hline\n",
       "\t1 & 1 & Bulbasaur     & Grass & Poison & 45 &  49 &  49 &  65 &  65 & 45 & 1 & False\\\\\n",
       "\t2 & 2 & Ivysaur       & Grass & Poison & 60 &  62 &  63 &  80 &  80 & 60 & 1 & False\\\\\n",
       "\t3 & 3 & Venusaur      & Grass & Poison & 80 &  82 &  83 & 100 & 100 & 80 & 1 & False\\\\\n",
       "\t4 & 4 & Mega Venusaur & Grass & Poison & 80 & 100 & 123 & 122 & 120 & 80 & 1 & False\\\\\n",
       "\t5 & 5 & Charmander    & Fire  &        & 39 &  52 &  43 &  60 &  50 & 65 & 1 & False\\\\\n",
       "\t6 & 6 & Charmeleon    & Fire  &        & 58 &  64 &  58 &  80 &  65 & 80 & 1 & False\\\\\n",
       "\\end{tabular}\n"
      ],
      "text/markdown": [
       "\n",
       "A data.frame: 6 × 12\n",
       "\n",
       "| <!--/--> | X. &lt;int&gt; | Name &lt;chr&gt; | Type.1 &lt;chr&gt; | Type.2 &lt;chr&gt; | HP &lt;int&gt; | Attack &lt;int&gt; | Defense &lt;int&gt; | Sp..Atk &lt;int&gt; | Sp..Def &lt;int&gt; | Speed &lt;int&gt; | Generation &lt;int&gt; | Legendary &lt;chr&gt; |\n",
       "|---|---|---|---|---|---|---|---|---|---|---|---|---|\n",
       "| 1 | 1 | Bulbasaur     | Grass | Poison | 45 |  49 |  49 |  65 |  65 | 45 | 1 | False |\n",
       "| 2 | 2 | Ivysaur       | Grass | Poison | 60 |  62 |  63 |  80 |  80 | 60 | 1 | False |\n",
       "| 3 | 3 | Venusaur      | Grass | Poison | 80 |  82 |  83 | 100 | 100 | 80 | 1 | False |\n",
       "| 4 | 4 | Mega Venusaur | Grass | Poison | 80 | 100 | 123 | 122 | 120 | 80 | 1 | False |\n",
       "| 5 | 5 | Charmander    | Fire  | <!----> | 39 |  52 |  43 |  60 |  50 | 65 | 1 | False |\n",
       "| 6 | 6 | Charmeleon    | Fire  | <!----> | 58 |  64 |  58 |  80 |  65 | 80 | 1 | False |\n",
       "\n"
      ],
      "text/plain": [
       "  X. Name          Type.1 Type.2 HP Attack Defense Sp..Atk Sp..Def Speed\n",
       "1 1  Bulbasaur     Grass  Poison 45  49     49      65      65     45   \n",
       "2 2  Ivysaur       Grass  Poison 60  62     63      80      80     60   \n",
       "3 3  Venusaur      Grass  Poison 80  82     83     100     100     80   \n",
       "4 4  Mega Venusaur Grass  Poison 80 100    123     122     120     80   \n",
       "5 5  Charmander    Fire          39  52     43      60      50     65   \n",
       "6 6  Charmeleon    Fire          58  64     58      80      65     80   \n",
       "  Generation Legendary\n",
       "1 1          False    \n",
       "2 1          False    \n",
       "3 1          False    \n",
       "4 1          False    \n",
       "5 1          False    \n",
       "6 1          False    "
      ]
     },
     "metadata": {},
     "output_type": "display_data"
    }
   ],
   "source": [
    "data = read.csv('pokemon.csv')\n",
    "head(data)"
   ]
  },
  {
   "cell_type": "markdown",
   "metadata": {},
   "source": [
    "Otra forma usual de leer bases de datos es directamente desde internet. Mediante la siguiente linea de código"
   ]
  },
  {
   "cell_type": "code",
   "execution_count": 84,
   "metadata": {},
   "outputs": [],
   "source": [
    "pagina = 'https://raw.githubusercontent.com/Fabimath/LEC-PYE/master/Clases/pokemon.csv'\n",
    "x <- url(pagina, \"r\")\n",
    "x <- readLines(x)\n",
    "data = read.csv(text = x)"
   ]
  },
  {
   "cell_type": "markdown",
   "metadata": {
    "jupyter": {
     "outputs_hidden": true
    }
   },
   "source": [
    "Despues de eso la base de datos esta guardada en la variable `data` entonces cada ves que llamemos a `data` estaremos llamando a la base de datos."
   ]
  },
  {
   "cell_type": "markdown",
   "metadata": {
    "jupyter": {
     "outputs_hidden": true
    }
   },
   "source": [
    "## Trabajar con la base de datos\n",
    "Ahora algo muy importante es saber como obtener las filas de una base de datos (también llamado data frame). Para ello se utiliza el simbolo de peso `$` con ello podemos acceder a una columna de los datos. Por ejemplo si quiero obtener solo los nombres de los pokemones deberia utilizar `data$Name`. En el siguiente codigo realizaremos dicho proceso:"
   ]
  },
  {
   "cell_type": "code",
   "execution_count": 85,
   "metadata": {},
   "outputs": [
    {
     "data": {
      "text/html": [
       "<style>\n",
       ".list-inline {list-style: none; margin:0; padding: 0}\n",
       ".list-inline>li {display: inline-block}\n",
       ".list-inline>li:not(:last-child)::after {content: \"\\00b7\"; padding: 0 .5ex}\n",
       "</style>\n",
       "<ol class=list-inline><li>49</li><li>62</li><li>82</li><li>100</li><li>52</li><li>64</li><li>84</li><li>130</li><li>104</li><li>48</li><li>63</li><li>83</li><li>103</li><li>30</li><li>20</li><li>45</li><li>35</li><li>25</li><li>90</li><li>150</li><li>45</li><li>60</li><li>80</li><li>80</li><li>56</li><li>81</li><li>60</li><li>90</li><li>60</li><li>85</li><li>55</li><li>90</li><li>75</li><li>100</li><li>47</li><li>62</li><li>92</li><li>57</li><li>72</li><li>102</li><li>45</li><li>70</li><li>41</li><li>76</li><li>45</li><li>70</li><li>45</li><li>80</li><li>50</li><li>65</li><li>80</li><li>70</li><li>95</li><li>55</li><li>65</li><li>55</li><li>80</li><li>45</li><li>70</li><li>52</li><li>82</li><li>80</li><li>105</li><li>70</li><li>110</li><li>50</li><li>65</li><li>95</li><li>20</li><li>35</li><li>50</li><li>50</li><li>80</li><li>100</li><li>130</li><li>75</li><li>90</li><li>105</li><li>40</li><li>70</li><li>80</li><li>95</li><li>120</li><li>85</li><li>100</li><li>65</li><li>75</li><li>75</li><li>35</li><li>60</li><li>65</li><li>85</li><li>110</li><li>45</li><li>70</li><li>80</li><li>105</li><li>65</li><li>95</li><li>35</li><li>50</li><li>65</li><li>65</li><li>45</li><li>48</li><li>73</li><li>105</li><li>130</li><li>30</li><li>50</li><li>40</li><li>95</li><li>50</li><li>80</li><li>120</li><li>105</li><li>55</li><li>65</li><li>90</li><li>85</li><li>130</li><li>5</li><li>55</li><li>95</li><li>125</li><li>40</li><li>65</li><li>67</li><li>92</li><li>45</li><li>75</li><li>45</li><li>110</li><li>50</li><li>83</li><li>95</li><li>125</li><li>155</li><li>100</li><li>10</li><li>125</li><li>155</li><li>85</li><li>48</li><li>55</li><li>65</li><li>65</li><li>130</li><li>60</li><li>40</li><li>60</li><li>80</li><li>115</li><li>105</li><li>135</li><li>110</li><li>85</li><li>90</li><li>100</li><li>64</li><li>84</li><li>134</li><li>110</li><li>190</li><li>150</li><li>100</li><li>49</li><li>62</li><li>82</li><li>52</li><li>64</li><li>84</li><li>65</li><li>80</li><li>105</li><li>46</li><li>76</li><li>30</li><li>50</li><li>20</li><li>35</li><li>60</li><li>90</li><li>90</li><li>38</li><li>58</li><li>40</li><li>25</li><li>30</li><li>20</li><li>40</li><li>50</li><li>75</li><li>40</li><li>55</li><li>75</li><li>95</li><li>80</li><li>20</li><li>50</li><li>...</li><li>53</li><li>63</li><li>103</li><li>45</li><li>55</li><li>100</li><li>27</li><li>67</li><li>35</li><li>60</li><li>92</li><li>72</li><li>82</li><li>117</li><li>90</li><li>140</li><li>30</li><li>86</li><li>65</li><li>95</li><li>75</li><li>90</li><li>58</li><li>30</li><li>50</li><li>78</li><li>108</li><li>112</li><li>140</li><li>50</li><li>95</li><li>65</li><li>105</li><li>50</li><li>95</li><li>30</li><li>45</li><li>55</li><li>30</li><li>40</li><li>65</li><li>44</li><li>87</li><li>50</li><li>65</li><li>95</li><li>60</li><li>100</li><li>75</li><li>75</li><li>135</li><li>55</li><li>85</li><li>40</li><li>60</li><li>75</li><li>47</li><li>77</li><li>50</li><li>94</li><li>55</li><li>80</li><li>100</li><li>55</li><li>85</li><li>115</li><li>55</li><li>75</li><li>30</li><li>40</li><li>55</li><li>87</li><li>117</li><li>147</li><li>70</li><li>110</li><li>50</li><li>40</li><li>70</li><li>66</li><li>85</li><li>125</li><li>120</li><li>74</li><li>124</li><li>85</li><li>125</li><li>110</li><li>83</li><li>123</li><li>55</li><li>65</li><li>97</li><li>109</li><li>65</li><li>85</li><li>105</li><li>85</li><li>60</li><li>90</li><li>129</li><li>90</li><li>115</li><li>100</li><li>115</li><li>105</li><li>120</li><li>150</li><li>125</li><li>145</li><li>130</li><li>170</li><li>120</li><li>72</li><li>72</li><li>77</li><li>128</li><li>120</li><li>61</li><li>78</li><li>107</li><li>45</li><li>59</li><li>69</li><li>56</li><li>63</li><li>95</li><li>36</li><li>56</li><li>50</li><li>73</li><li>81</li><li>35</li><li>22</li><li>52</li><li>50</li><li>68</li><li>38</li><li>45</li><li>65</li><li>65</li><li>100</li><li>82</li><li>124</li><li>80</li><li>48</li><li>48</li><li>48</li><li>80</li><li>110</li><li>150</li><li>50</li><li>52</li><li>72</li><li>48</li><li>80</li><li>54</li><li>92</li><li>52</li><li>105</li><li>60</li><li>75</li><li>53</li><li>73</li><li>38</li><li>55</li><li>89</li><li>121</li><li>59</li><li>77</li><li>65</li><li>92</li><li>58</li><li>50</li><li>50</li><li>75</li><li>100</li><li>80</li><li>70</li><li>110</li><li>66</li><li>66</li><li>66</li><li>66</li><li>90</li><li>85</li><li>95</li><li>100</li><li>69</li><li>117</li><li>30</li><li>70</li><li>131</li><li>131</li><li>100</li><li>100</li><li>160</li><li>110</li><li>160</li><li>110</li></ol>\n"
      ],
      "text/latex": [
       "\\begin{enumerate*}\n",
       "\\item 49\n",
       "\\item 62\n",
       "\\item 82\n",
       "\\item 100\n",
       "\\item 52\n",
       "\\item 64\n",
       "\\item 84\n",
       "\\item 130\n",
       "\\item 104\n",
       "\\item 48\n",
       "\\item 63\n",
       "\\item 83\n",
       "\\item 103\n",
       "\\item 30\n",
       "\\item 20\n",
       "\\item 45\n",
       "\\item 35\n",
       "\\item 25\n",
       "\\item 90\n",
       "\\item 150\n",
       "\\item 45\n",
       "\\item 60\n",
       "\\item 80\n",
       "\\item 80\n",
       "\\item 56\n",
       "\\item 81\n",
       "\\item 60\n",
       "\\item 90\n",
       "\\item 60\n",
       "\\item 85\n",
       "\\item 55\n",
       "\\item 90\n",
       "\\item 75\n",
       "\\item 100\n",
       "\\item 47\n",
       "\\item 62\n",
       "\\item 92\n",
       "\\item 57\n",
       "\\item 72\n",
       "\\item 102\n",
       "\\item 45\n",
       "\\item 70\n",
       "\\item 41\n",
       "\\item 76\n",
       "\\item 45\n",
       "\\item 70\n",
       "\\item 45\n",
       "\\item 80\n",
       "\\item 50\n",
       "\\item 65\n",
       "\\item 80\n",
       "\\item 70\n",
       "\\item 95\n",
       "\\item 55\n",
       "\\item 65\n",
       "\\item 55\n",
       "\\item 80\n",
       "\\item 45\n",
       "\\item 70\n",
       "\\item 52\n",
       "\\item 82\n",
       "\\item 80\n",
       "\\item 105\n",
       "\\item 70\n",
       "\\item 110\n",
       "\\item 50\n",
       "\\item 65\n",
       "\\item 95\n",
       "\\item 20\n",
       "\\item 35\n",
       "\\item 50\n",
       "\\item 50\n",
       "\\item 80\n",
       "\\item 100\n",
       "\\item 130\n",
       "\\item 75\n",
       "\\item 90\n",
       "\\item 105\n",
       "\\item 40\n",
       "\\item 70\n",
       "\\item 80\n",
       "\\item 95\n",
       "\\item 120\n",
       "\\item 85\n",
       "\\item 100\n",
       "\\item 65\n",
       "\\item 75\n",
       "\\item 75\n",
       "\\item 35\n",
       "\\item 60\n",
       "\\item 65\n",
       "\\item 85\n",
       "\\item 110\n",
       "\\item 45\n",
       "\\item 70\n",
       "\\item 80\n",
       "\\item 105\n",
       "\\item 65\n",
       "\\item 95\n",
       "\\item 35\n",
       "\\item 50\n",
       "\\item 65\n",
       "\\item 65\n",
       "\\item 45\n",
       "\\item 48\n",
       "\\item 73\n",
       "\\item 105\n",
       "\\item 130\n",
       "\\item 30\n",
       "\\item 50\n",
       "\\item 40\n",
       "\\item 95\n",
       "\\item 50\n",
       "\\item 80\n",
       "\\item 120\n",
       "\\item 105\n",
       "\\item 55\n",
       "\\item 65\n",
       "\\item 90\n",
       "\\item 85\n",
       "\\item 130\n",
       "\\item 5\n",
       "\\item 55\n",
       "\\item 95\n",
       "\\item 125\n",
       "\\item 40\n",
       "\\item 65\n",
       "\\item 67\n",
       "\\item 92\n",
       "\\item 45\n",
       "\\item 75\n",
       "\\item 45\n",
       "\\item 110\n",
       "\\item 50\n",
       "\\item 83\n",
       "\\item 95\n",
       "\\item 125\n",
       "\\item 155\n",
       "\\item 100\n",
       "\\item 10\n",
       "\\item 125\n",
       "\\item 155\n",
       "\\item 85\n",
       "\\item 48\n",
       "\\item 55\n",
       "\\item 65\n",
       "\\item 65\n",
       "\\item 130\n",
       "\\item 60\n",
       "\\item 40\n",
       "\\item 60\n",
       "\\item 80\n",
       "\\item 115\n",
       "\\item 105\n",
       "\\item 135\n",
       "\\item 110\n",
       "\\item 85\n",
       "\\item 90\n",
       "\\item 100\n",
       "\\item 64\n",
       "\\item 84\n",
       "\\item 134\n",
       "\\item 110\n",
       "\\item 190\n",
       "\\item 150\n",
       "\\item 100\n",
       "\\item 49\n",
       "\\item 62\n",
       "\\item 82\n",
       "\\item 52\n",
       "\\item 64\n",
       "\\item 84\n",
       "\\item 65\n",
       "\\item 80\n",
       "\\item 105\n",
       "\\item 46\n",
       "\\item 76\n",
       "\\item 30\n",
       "\\item 50\n",
       "\\item 20\n",
       "\\item 35\n",
       "\\item 60\n",
       "\\item 90\n",
       "\\item 90\n",
       "\\item 38\n",
       "\\item 58\n",
       "\\item 40\n",
       "\\item 25\n",
       "\\item 30\n",
       "\\item 20\n",
       "\\item 40\n",
       "\\item 50\n",
       "\\item 75\n",
       "\\item 40\n",
       "\\item 55\n",
       "\\item 75\n",
       "\\item 95\n",
       "\\item 80\n",
       "\\item 20\n",
       "\\item 50\n",
       "\\item ...\n",
       "\\item 53\n",
       "\\item 63\n",
       "\\item 103\n",
       "\\item 45\n",
       "\\item 55\n",
       "\\item 100\n",
       "\\item 27\n",
       "\\item 67\n",
       "\\item 35\n",
       "\\item 60\n",
       "\\item 92\n",
       "\\item 72\n",
       "\\item 82\n",
       "\\item 117\n",
       "\\item 90\n",
       "\\item 140\n",
       "\\item 30\n",
       "\\item 86\n",
       "\\item 65\n",
       "\\item 95\n",
       "\\item 75\n",
       "\\item 90\n",
       "\\item 58\n",
       "\\item 30\n",
       "\\item 50\n",
       "\\item 78\n",
       "\\item 108\n",
       "\\item 112\n",
       "\\item 140\n",
       "\\item 50\n",
       "\\item 95\n",
       "\\item 65\n",
       "\\item 105\n",
       "\\item 50\n",
       "\\item 95\n",
       "\\item 30\n",
       "\\item 45\n",
       "\\item 55\n",
       "\\item 30\n",
       "\\item 40\n",
       "\\item 65\n",
       "\\item 44\n",
       "\\item 87\n",
       "\\item 50\n",
       "\\item 65\n",
       "\\item 95\n",
       "\\item 60\n",
       "\\item 100\n",
       "\\item 75\n",
       "\\item 75\n",
       "\\item 135\n",
       "\\item 55\n",
       "\\item 85\n",
       "\\item 40\n",
       "\\item 60\n",
       "\\item 75\n",
       "\\item 47\n",
       "\\item 77\n",
       "\\item 50\n",
       "\\item 94\n",
       "\\item 55\n",
       "\\item 80\n",
       "\\item 100\n",
       "\\item 55\n",
       "\\item 85\n",
       "\\item 115\n",
       "\\item 55\n",
       "\\item 75\n",
       "\\item 30\n",
       "\\item 40\n",
       "\\item 55\n",
       "\\item 87\n",
       "\\item 117\n",
       "\\item 147\n",
       "\\item 70\n",
       "\\item 110\n",
       "\\item 50\n",
       "\\item 40\n",
       "\\item 70\n",
       "\\item 66\n",
       "\\item 85\n",
       "\\item 125\n",
       "\\item 120\n",
       "\\item 74\n",
       "\\item 124\n",
       "\\item 85\n",
       "\\item 125\n",
       "\\item 110\n",
       "\\item 83\n",
       "\\item 123\n",
       "\\item 55\n",
       "\\item 65\n",
       "\\item 97\n",
       "\\item 109\n",
       "\\item 65\n",
       "\\item 85\n",
       "\\item 105\n",
       "\\item 85\n",
       "\\item 60\n",
       "\\item 90\n",
       "\\item 129\n",
       "\\item 90\n",
       "\\item 115\n",
       "\\item 100\n",
       "\\item 115\n",
       "\\item 105\n",
       "\\item 120\n",
       "\\item 150\n",
       "\\item 125\n",
       "\\item 145\n",
       "\\item 130\n",
       "\\item 170\n",
       "\\item 120\n",
       "\\item 72\n",
       "\\item 72\n",
       "\\item 77\n",
       "\\item 128\n",
       "\\item 120\n",
       "\\item 61\n",
       "\\item 78\n",
       "\\item 107\n",
       "\\item 45\n",
       "\\item 59\n",
       "\\item 69\n",
       "\\item 56\n",
       "\\item 63\n",
       "\\item 95\n",
       "\\item 36\n",
       "\\item 56\n",
       "\\item 50\n",
       "\\item 73\n",
       "\\item 81\n",
       "\\item 35\n",
       "\\item 22\n",
       "\\item 52\n",
       "\\item 50\n",
       "\\item 68\n",
       "\\item 38\n",
       "\\item 45\n",
       "\\item 65\n",
       "\\item 65\n",
       "\\item 100\n",
       "\\item 82\n",
       "\\item 124\n",
       "\\item 80\n",
       "\\item 48\n",
       "\\item 48\n",
       "\\item 48\n",
       "\\item 80\n",
       "\\item 110\n",
       "\\item 150\n",
       "\\item 50\n",
       "\\item 52\n",
       "\\item 72\n",
       "\\item 48\n",
       "\\item 80\n",
       "\\item 54\n",
       "\\item 92\n",
       "\\item 52\n",
       "\\item 105\n",
       "\\item 60\n",
       "\\item 75\n",
       "\\item 53\n",
       "\\item 73\n",
       "\\item 38\n",
       "\\item 55\n",
       "\\item 89\n",
       "\\item 121\n",
       "\\item 59\n",
       "\\item 77\n",
       "\\item 65\n",
       "\\item 92\n",
       "\\item 58\n",
       "\\item 50\n",
       "\\item 50\n",
       "\\item 75\n",
       "\\item 100\n",
       "\\item 80\n",
       "\\item 70\n",
       "\\item 110\n",
       "\\item 66\n",
       "\\item 66\n",
       "\\item 66\n",
       "\\item 66\n",
       "\\item 90\n",
       "\\item 85\n",
       "\\item 95\n",
       "\\item 100\n",
       "\\item 69\n",
       "\\item 117\n",
       "\\item 30\n",
       "\\item 70\n",
       "\\item 131\n",
       "\\item 131\n",
       "\\item 100\n",
       "\\item 100\n",
       "\\item 160\n",
       "\\item 110\n",
       "\\item 160\n",
       "\\item 110\n",
       "\\end{enumerate*}\n"
      ],
      "text/markdown": [
       "1. 49\n",
       "2. 62\n",
       "3. 82\n",
       "4. 100\n",
       "5. 52\n",
       "6. 64\n",
       "7. 84\n",
       "8. 130\n",
       "9. 104\n",
       "10. 48\n",
       "11. 63\n",
       "12. 83\n",
       "13. 103\n",
       "14. 30\n",
       "15. 20\n",
       "16. 45\n",
       "17. 35\n",
       "18. 25\n",
       "19. 90\n",
       "20. 150\n",
       "21. 45\n",
       "22. 60\n",
       "23. 80\n",
       "24. 80\n",
       "25. 56\n",
       "26. 81\n",
       "27. 60\n",
       "28. 90\n",
       "29. 60\n",
       "30. 85\n",
       "31. 55\n",
       "32. 90\n",
       "33. 75\n",
       "34. 100\n",
       "35. 47\n",
       "36. 62\n",
       "37. 92\n",
       "38. 57\n",
       "39. 72\n",
       "40. 102\n",
       "41. 45\n",
       "42. 70\n",
       "43. 41\n",
       "44. 76\n",
       "45. 45\n",
       "46. 70\n",
       "47. 45\n",
       "48. 80\n",
       "49. 50\n",
       "50. 65\n",
       "51. 80\n",
       "52. 70\n",
       "53. 95\n",
       "54. 55\n",
       "55. 65\n",
       "56. 55\n",
       "57. 80\n",
       "58. 45\n",
       "59. 70\n",
       "60. 52\n",
       "61. 82\n",
       "62. 80\n",
       "63. 105\n",
       "64. 70\n",
       "65. 110\n",
       "66. 50\n",
       "67. 65\n",
       "68. 95\n",
       "69. 20\n",
       "70. 35\n",
       "71. 50\n",
       "72. 50\n",
       "73. 80\n",
       "74. 100\n",
       "75. 130\n",
       "76. 75\n",
       "77. 90\n",
       "78. 105\n",
       "79. 40\n",
       "80. 70\n",
       "81. 80\n",
       "82. 95\n",
       "83. 120\n",
       "84. 85\n",
       "85. 100\n",
       "86. 65\n",
       "87. 75\n",
       "88. 75\n",
       "89. 35\n",
       "90. 60\n",
       "91. 65\n",
       "92. 85\n",
       "93. 110\n",
       "94. 45\n",
       "95. 70\n",
       "96. 80\n",
       "97. 105\n",
       "98. 65\n",
       "99. 95\n",
       "100. 35\n",
       "101. 50\n",
       "102. 65\n",
       "103. 65\n",
       "104. 45\n",
       "105. 48\n",
       "106. 73\n",
       "107. 105\n",
       "108. 130\n",
       "109. 30\n",
       "110. 50\n",
       "111. 40\n",
       "112. 95\n",
       "113. 50\n",
       "114. 80\n",
       "115. 120\n",
       "116. 105\n",
       "117. 55\n",
       "118. 65\n",
       "119. 90\n",
       "120. 85\n",
       "121. 130\n",
       "122. 5\n",
       "123. 55\n",
       "124. 95\n",
       "125. 125\n",
       "126. 40\n",
       "127. 65\n",
       "128. 67\n",
       "129. 92\n",
       "130. 45\n",
       "131. 75\n",
       "132. 45\n",
       "133. 110\n",
       "134. 50\n",
       "135. 83\n",
       "136. 95\n",
       "137. 125\n",
       "138. 155\n",
       "139. 100\n",
       "140. 10\n",
       "141. 125\n",
       "142. 155\n",
       "143. 85\n",
       "144. 48\n",
       "145. 55\n",
       "146. 65\n",
       "147. 65\n",
       "148. 130\n",
       "149. 60\n",
       "150. 40\n",
       "151. 60\n",
       "152. 80\n",
       "153. 115\n",
       "154. 105\n",
       "155. 135\n",
       "156. 110\n",
       "157. 85\n",
       "158. 90\n",
       "159. 100\n",
       "160. 64\n",
       "161. 84\n",
       "162. 134\n",
       "163. 110\n",
       "164. 190\n",
       "165. 150\n",
       "166. 100\n",
       "167. 49\n",
       "168. 62\n",
       "169. 82\n",
       "170. 52\n",
       "171. 64\n",
       "172. 84\n",
       "173. 65\n",
       "174. 80\n",
       "175. 105\n",
       "176. 46\n",
       "177. 76\n",
       "178. 30\n",
       "179. 50\n",
       "180. 20\n",
       "181. 35\n",
       "182. 60\n",
       "183. 90\n",
       "184. 90\n",
       "185. 38\n",
       "186. 58\n",
       "187. 40\n",
       "188. 25\n",
       "189. 30\n",
       "190. 20\n",
       "191. 40\n",
       "192. 50\n",
       "193. 75\n",
       "194. 40\n",
       "195. 55\n",
       "196. 75\n",
       "197. 95\n",
       "198. 80\n",
       "199. 20\n",
       "200. 50\n",
       "201. ...\n",
       "202. 53\n",
       "203. 63\n",
       "204. 103\n",
       "205. 45\n",
       "206. 55\n",
       "207. 100\n",
       "208. 27\n",
       "209. 67\n",
       "210. 35\n",
       "211. 60\n",
       "212. 92\n",
       "213. 72\n",
       "214. 82\n",
       "215. 117\n",
       "216. 90\n",
       "217. 140\n",
       "218. 30\n",
       "219. 86\n",
       "220. 65\n",
       "221. 95\n",
       "222. 75\n",
       "223. 90\n",
       "224. 58\n",
       "225. 30\n",
       "226. 50\n",
       "227. 78\n",
       "228. 108\n",
       "229. 112\n",
       "230. 140\n",
       "231. 50\n",
       "232. 95\n",
       "233. 65\n",
       "234. 105\n",
       "235. 50\n",
       "236. 95\n",
       "237. 30\n",
       "238. 45\n",
       "239. 55\n",
       "240. 30\n",
       "241. 40\n",
       "242. 65\n",
       "243. 44\n",
       "244. 87\n",
       "245. 50\n",
       "246. 65\n",
       "247. 95\n",
       "248. 60\n",
       "249. 100\n",
       "250. 75\n",
       "251. 75\n",
       "252. 135\n",
       "253. 55\n",
       "254. 85\n",
       "255. 40\n",
       "256. 60\n",
       "257. 75\n",
       "258. 47\n",
       "259. 77\n",
       "260. 50\n",
       "261. 94\n",
       "262. 55\n",
       "263. 80\n",
       "264. 100\n",
       "265. 55\n",
       "266. 85\n",
       "267. 115\n",
       "268. 55\n",
       "269. 75\n",
       "270. 30\n",
       "271. 40\n",
       "272. 55\n",
       "273. 87\n",
       "274. 117\n",
       "275. 147\n",
       "276. 70\n",
       "277. 110\n",
       "278. 50\n",
       "279. 40\n",
       "280. 70\n",
       "281. 66\n",
       "282. 85\n",
       "283. 125\n",
       "284. 120\n",
       "285. 74\n",
       "286. 124\n",
       "287. 85\n",
       "288. 125\n",
       "289. 110\n",
       "290. 83\n",
       "291. 123\n",
       "292. 55\n",
       "293. 65\n",
       "294. 97\n",
       "295. 109\n",
       "296. 65\n",
       "297. 85\n",
       "298. 105\n",
       "299. 85\n",
       "300. 60\n",
       "301. 90\n",
       "302. 129\n",
       "303. 90\n",
       "304. 115\n",
       "305. 100\n",
       "306. 115\n",
       "307. 105\n",
       "308. 120\n",
       "309. 150\n",
       "310. 125\n",
       "311. 145\n",
       "312. 130\n",
       "313. 170\n",
       "314. 120\n",
       "315. 72\n",
       "316. 72\n",
       "317. 77\n",
       "318. 128\n",
       "319. 120\n",
       "320. 61\n",
       "321. 78\n",
       "322. 107\n",
       "323. 45\n",
       "324. 59\n",
       "325. 69\n",
       "326. 56\n",
       "327. 63\n",
       "328. 95\n",
       "329. 36\n",
       "330. 56\n",
       "331. 50\n",
       "332. 73\n",
       "333. 81\n",
       "334. 35\n",
       "335. 22\n",
       "336. 52\n",
       "337. 50\n",
       "338. 68\n",
       "339. 38\n",
       "340. 45\n",
       "341. 65\n",
       "342. 65\n",
       "343. 100\n",
       "344. 82\n",
       "345. 124\n",
       "346. 80\n",
       "347. 48\n",
       "348. 48\n",
       "349. 48\n",
       "350. 80\n",
       "351. 110\n",
       "352. 150\n",
       "353. 50\n",
       "354. 52\n",
       "355. 72\n",
       "356. 48\n",
       "357. 80\n",
       "358. 54\n",
       "359. 92\n",
       "360. 52\n",
       "361. 105\n",
       "362. 60\n",
       "363. 75\n",
       "364. 53\n",
       "365. 73\n",
       "366. 38\n",
       "367. 55\n",
       "368. 89\n",
       "369. 121\n",
       "370. 59\n",
       "371. 77\n",
       "372. 65\n",
       "373. 92\n",
       "374. 58\n",
       "375. 50\n",
       "376. 50\n",
       "377. 75\n",
       "378. 100\n",
       "379. 80\n",
       "380. 70\n",
       "381. 110\n",
       "382. 66\n",
       "383. 66\n",
       "384. 66\n",
       "385. 66\n",
       "386. 90\n",
       "387. 85\n",
       "388. 95\n",
       "389. 100\n",
       "390. 69\n",
       "391. 117\n",
       "392. 30\n",
       "393. 70\n",
       "394. 131\n",
       "395. 131\n",
       "396. 100\n",
       "397. 100\n",
       "398. 160\n",
       "399. 110\n",
       "400. 160\n",
       "401. 110\n",
       "\n",
       "\n"
      ],
      "text/plain": [
       "  [1]  49  62  82 100  52  64  84 130 104  48  63  83 103  30  20  45  35  25\n",
       " [19]  90 150  45  60  80  80  56  81  60  90  60  85  55  90  75 100  47  62\n",
       " [37]  92  57  72 102  45  70  41  76  45  70  45  80  50  65  80  70  95  55\n",
       " [55]  65  55  80  45  70  52  82  80 105  70 110  50  65  95  20  35  50  50\n",
       " [73]  80 100 130  75  90 105  40  70  80  95 120  85 100  65  75  75  35  60\n",
       " [91]  65  85 110  45  70  80 105  65  95  35  50  65  65  45  48  73 105 130\n",
       "[109]  30  50  40  95  50  80 120 105  55  65  90  85 130   5  55  95 125  40\n",
       "[127]  65  67  92  45  75  45 110  50  83  95 125 155 100  10 125 155  85  48\n",
       "[145]  55  65  65 130  60  40  60  80 115 105 135 110  85  90 100  64  84 134\n",
       "[163] 110 190 150 100  49  62  82  52  64  84  65  80 105  46  76  30  50  20\n",
       "[181]  35  60  90  90  38  58  40  25  30  20  40  50  75  40  55  75  95  80\n",
       "[199]  20  50 100  75  35  45  55  70  30  75  65  45  85  65  65  85  75  60\n",
       "[217]  72  33  80  65  90  70  75  85 125  80 120  95 130 150  10 125 185  95\n",
       "[235]  80 130  40  50  50 100  55  65 105  55  40  80  60  90  90  95  60 120\n",
       "[253]  80  95  20  35  95  30  63  75  80  10  85 115  75  64  84 134 164  90\n",
       "[271] 130 100  45  65  85 110  60  85 120 160  70  85 110 150  55  90  30  70\n",
       "[289]  45  35  70  35  50  30  50  70  40  70 100  55  85  30  50  25  35  65\n",
       "[307]  85  30  60  40 130  60  80 160  45  90  90  51  71  91  60 120  20  45\n",
       "[325]  45  65  75  85  85 105  70  90 110 140  40  60 100  45  75  75  50  40\n",
       "[343]  73  47  60  43  73  90 120 140  70  90  60 100 120  85  25  45  60 100\n",
       "[361]  70 100  85 115  40  70 110 115 100  55  95  48  78  80 120  40  70  41\n",
       "[379]  81  95 125  15  60  70  90  75 115 165  40  70  68  50 130 150  23  50\n",
       "[397]  80 120  40  60  80  64 104  84  90  30  75  95 135 145  55  75 135 145\n",
       "[415] 100  50  75  80 100  90 130 100 150 150 180 150 180 100 150 180  70  95\n",
       "[433]  68  89 109  58  78 104  51  66  86  55  75 120  45  85  25  85  65  85\n",
       "[451] 120  30  70 125 165  42  52  29  59  79  69  94  30  80  45  65 105  35\n",
       "[469]  60  48  83 100  50  80  66  76 136  60 125  55  82  30  63  93  24  89\n",
       "[487]  80  25   5  65  92  70  90 130 170  85  70 110 145  72 112  50  90  61\n",
       "[505] 106 100  49  69  20  62  92 132 120  70  85 140 100 123  95  50  76 110\n",
       "[523]  60  95 130  80 125 165  55 100  80  50  65  65  65  65  65  75 105 125\n",
       "[541] 120 120  90 160 100 120  70  80 100  90 100 103 120 100  45  60  75  63\n",
       "[559]  93 123  55  75 100  55  85  60  80 110  50  88  53  98  53  98  53  98\n",
       "[577]  25  55  55  77 115  60 100  75 105 135  45  57  85 135  60  60  80 105\n",
       "[595] 140  50  65  95 100 125  53  63 103  45  55 100  27  67  35  60  92  72\n",
       "[613]  82 117  90 140  30  86  65  95  75  90  58  30  50  78 108 112 140  50\n",
       "[631]  95  65 105  50  95  30  45  55  30  40  65  44  87  50  65  95  60 100\n",
       "[649]  75  75 135  55  85  40  60  75  47  77  50  94  55  80 100  55  85 115\n",
       "[667]  55  75  30  40  55  87 117 147  70 110  50  40  70  66  85 125 120  74\n",
       "[685] 124  85 125 110  83 123  55  65  97 109  65  85 105  85  60  90 129  90\n",
       "[703] 115 100 115 105 120 150 125 145 130 170 120  72  72  77 128 120  61  78\n",
       "[721] 107  45  59  69  56  63  95  36  56  50  73  81  35  22  52  50  68  38\n",
       "[739]  45  65  65 100  82 124  80  48  48  48  80 110 150  50  52  72  48  80\n",
       "[757]  54  92  52 105  60  75  53  73  38  55  89 121  59  77  65  92  58  50\n",
       "[775]  50  75 100  80  70 110  66  66  66  66  90  85  95 100  69 117  30  70\n",
       "[793] 131 131 100 100 160 110 160 110"
      ]
     },
     "metadata": {},
     "output_type": "display_data"
    }
   ],
   "source": [
    "data$Attack"
   ]
  },
  {
   "cell_type": "markdown",
   "metadata": {},
   "source": [
    "De esta forma podemos obtener una columna de la base de datos. Ahora también podriamos buscar datos que cumplan con una cierta condición. Recordemos que las condiciones en programación son:\n",
    "* `==` para denotar igualdad entre 2 variables.\n",
    "* `<=` para denotar que una variable es menor o igual a otra.\n",
    "* `>=` para denotar que una variable es mayor o igual a otra.\n",
    "* `<` para denotar que una variable es extrictamente menor que otra.\n",
    "* `>` para denotar que una variable es extrictamente mayor que otra.\n",
    "* `!=` para denotar que dos variables son distintas.\n",
    "\n",
    "### Filtrar bases de datos\n",
    "Imagina que en tu base de datos solo te sirven los datos que cumplan una condición particular. Para ello en R se utiliza la función `subset(data,condición)` esta te entrega una base de datos filtrada con la condición que tu impongas. Por ejemplo en nuestra base de datos buscaremos los Pokemons con más de 160 puntos de `Attack`, entonces:"
   ]
  },
  {
   "cell_type": "code",
   "execution_count": 86,
   "metadata": {},
   "outputs": [],
   "source": [
    "planta = subset(data, Type.1 == 'Grass')"
   ]
  },
  {
   "cell_type": "markdown",
   "metadata": {},
   "source": [
    "En R también existen las funciones clasicas de sumar,restar,multiplicar y dividir dadas por `+` `-` `*` `/`. En particular existen dos funciones `max` y `min` las cuales te entregan el máximo y el mínimo de un conjunto de datos. Por ejemplo si tu conjunto de datos es:\n",
    "$$\n",
    "\\{ 1,2,2,0,3\\}\n",
    "$$\n",
    "Entonces:"
   ]
  },
  {
   "cell_type": "code",
   "execution_count": 87,
   "metadata": {},
   "outputs": [
    {
     "data": {
      "text/html": [
       "3"
      ],
      "text/latex": [
       "3"
      ],
      "text/markdown": [
       "3"
      ],
      "text/plain": [
       "[1] 3"
      ]
     },
     "metadata": {},
     "output_type": "display_data"
    }
   ],
   "source": [
    "max(1,2,2,0,3)"
   ]
  },
  {
   "cell_type": "code",
   "execution_count": 88,
   "metadata": {},
   "outputs": [
    {
     "data": {
      "text/html": [
       "0"
      ],
      "text/latex": [
       "0"
      ],
      "text/markdown": [
       "0"
      ],
      "text/plain": [
       "[1] 0"
      ]
     },
     "metadata": {},
     "output_type": "display_data"
    }
   ],
   "source": [
    "min(1,2,2,0,3)"
   ]
  },
  {
   "cell_type": "markdown",
   "metadata": {},
   "source": [
    "Combinado con la función `subset` podemos obtener el o los datos con mayor valor en una cierta variable. Por ejemplo podriamos buscar el Pokemon con mayor `Speed` de todos entonces:"
   ]
  },
  {
   "cell_type": "code",
   "execution_count": 89,
   "metadata": {},
   "outputs": [
    {
     "data": {
      "text/html": [
       "<table>\n",
       "<caption>A data.frame: 1 × 12</caption>\n",
       "<thead>\n",
       "\t<tr><th></th><th scope=col>X.</th><th scope=col>Name</th><th scope=col>Type.1</th><th scope=col>Type.2</th><th scope=col>HP</th><th scope=col>Attack</th><th scope=col>Defense</th><th scope=col>Sp..Atk</th><th scope=col>Sp..Def</th><th scope=col>Speed</th><th scope=col>Generation</th><th scope=col>Legendary</th></tr>\n",
       "\t<tr><th></th><th scope=col>&lt;int&gt;</th><th scope=col>&lt;chr&gt;</th><th scope=col>&lt;chr&gt;</th><th scope=col>&lt;chr&gt;</th><th scope=col>&lt;int&gt;</th><th scope=col>&lt;int&gt;</th><th scope=col>&lt;int&gt;</th><th scope=col>&lt;int&gt;</th><th scope=col>&lt;int&gt;</th><th scope=col>&lt;int&gt;</th><th scope=col>&lt;int&gt;</th><th scope=col>&lt;chr&gt;</th></tr>\n",
       "</thead>\n",
       "<tbody>\n",
       "\t<tr><th scope=row>317</th><td>317</td><td>Shedinja</td><td>Bug</td><td>Ghost</td><td>1</td><td>90</td><td>45</td><td>30</td><td>30</td><td>40</td><td>3</td><td>False</td></tr>\n",
       "</tbody>\n",
       "</table>\n"
      ],
      "text/latex": [
       "A data.frame: 1 × 12\n",
       "\\begin{tabular}{r|llllllllllll}\n",
       "  & X. & Name & Type.1 & Type.2 & HP & Attack & Defense & Sp..Atk & Sp..Def & Speed & Generation & Legendary\\\\\n",
       "  & <int> & <chr> & <chr> & <chr> & <int> & <int> & <int> & <int> & <int> & <int> & <int> & <chr>\\\\\n",
       "\\hline\n",
       "\t317 & 317 & Shedinja & Bug & Ghost & 1 & 90 & 45 & 30 & 30 & 40 & 3 & False\\\\\n",
       "\\end{tabular}\n"
      ],
      "text/markdown": [
       "\n",
       "A data.frame: 1 × 12\n",
       "\n",
       "| <!--/--> | X. &lt;int&gt; | Name &lt;chr&gt; | Type.1 &lt;chr&gt; | Type.2 &lt;chr&gt; | HP &lt;int&gt; | Attack &lt;int&gt; | Defense &lt;int&gt; | Sp..Atk &lt;int&gt; | Sp..Def &lt;int&gt; | Speed &lt;int&gt; | Generation &lt;int&gt; | Legendary &lt;chr&gt; |\n",
       "|---|---|---|---|---|---|---|---|---|---|---|---|---|\n",
       "| 317 | 317 | Shedinja | Bug | Ghost | 1 | 90 | 45 | 30 | 30 | 40 | 3 | False |\n",
       "\n"
      ],
      "text/plain": [
       "    X.  Name     Type.1 Type.2 HP Attack Defense Sp..Atk Sp..Def Speed\n",
       "317 317 Shedinja Bug    Ghost  1  90     45      30      30      40   \n",
       "    Generation Legendary\n",
       "317 3          False    "
      ]
     },
     "metadata": {},
     "output_type": "display_data"
    }
   ],
   "source": [
    "subset(data,HP==min(HP))"
   ]
  },
  {
   "cell_type": "markdown",
   "metadata": {},
   "source": [
    "De esta forma obtenemos el Pokémon con mayor velocidad de todos. También podemos utilizar mas de una condición utilizando los conectores logicos **y** y **o** representados en R por `&` y `|` respectivamente. Por ejemplo podriamos buscar los pokemones con `HP` mayor que 130 **y** que `Type.1` sea `Water`."
   ]
  },
  {
   "cell_type": "code",
   "execution_count": 90,
   "metadata": {},
   "outputs": [
    {
     "data": {
      "text/html": [
       "<table>\n",
       "<caption>A data.frame: 13 × 12</caption>\n",
       "<thead>\n",
       "\t<tr><th></th><th scope=col>X.</th><th scope=col>Name</th><th scope=col>Type.1</th><th scope=col>Type.2</th><th scope=col>HP</th><th scope=col>Attack</th><th scope=col>Defense</th><th scope=col>Sp..Atk</th><th scope=col>Sp..Def</th><th scope=col>Speed</th><th scope=col>Generation</th><th scope=col>Legendary</th></tr>\n",
       "\t<tr><th></th><th scope=col>&lt;int&gt;</th><th scope=col>&lt;chr&gt;</th><th scope=col>&lt;chr&gt;</th><th scope=col>&lt;chr&gt;</th><th scope=col>&lt;int&gt;</th><th scope=col>&lt;int&gt;</th><th scope=col>&lt;int&gt;</th><th scope=col>&lt;int&gt;</th><th scope=col>&lt;int&gt;</th><th scope=col>&lt;int&gt;</th><th scope=col>&lt;int&gt;</th><th scope=col>&lt;chr&gt;</th></tr>\n",
       "</thead>\n",
       "<tbody>\n",
       "\t<tr><th scope=row>1</th><td>  1</td><td>Bulbasaur</td><td>Grass</td><td>Poison</td><td>45</td><td>49</td><td>49</td><td>65</td><td>65</td><td>45</td><td>1</td><td>False</td></tr>\n",
       "\t<tr><th scope=row>49</th><td> 49</td><td>Oddish   </td><td>Grass</td><td>Poison</td><td>45</td><td>50</td><td>55</td><td>75</td><td>65</td><td>30</td><td>1</td><td>False</td></tr>\n",
       "\t<tr><th scope=row>167</th><td>167</td><td>Chikorita</td><td>Grass</td><td>      </td><td>45</td><td>49</td><td>65</td><td>49</td><td>65</td><td>45</td><td>2</td><td>False</td></tr>\n",
       "\t<tr><th scope=row>203</th><td>203</td><td>Hoppip   </td><td>Grass</td><td>Flying</td><td>35</td><td>35</td><td>40</td><td>35</td><td>55</td><td>50</td><td>2</td><td>False</td></tr>\n",
       "\t<tr><th scope=row>207</th><td>207</td><td>Sunkern  </td><td>Grass</td><td>      </td><td>30</td><td>30</td><td>30</td><td>30</td><td>30</td><td>30</td><td>2</td><td>False</td></tr>\n",
       "\t<tr><th scope=row>273</th><td>273</td><td>Treecko  </td><td>Grass</td><td>      </td><td>40</td><td>45</td><td>35</td><td>65</td><td>55</td><td>70</td><td>3</td><td>False</td></tr>\n",
       "\t<tr><th scope=row>297</th><td>297</td><td>Seedot   </td><td>Grass</td><td>      </td><td>40</td><td>40</td><td>50</td><td>30</td><td>30</td><td>30</td><td>3</td><td>False</td></tr>\n",
       "\t<tr><th scope=row>452</th><td>452</td><td>Budew    </td><td>Grass</td><td>Poison</td><td>40</td><td>30</td><td>35</td><td>50</td><td>70</td><td>55</td><td>4</td><td>False</td></tr>\n",
       "\t<tr><th scope=row>468</th><td>468</td><td>Cherubi  </td><td>Grass</td><td>      </td><td>45</td><td>35</td><td>45</td><td>62</td><td>53</td><td>35</td><td>4</td><td>False</td></tr>\n",
       "\t<tr><th scope=row>555</th><td>555</td><td>Snivy    </td><td>Grass</td><td>      </td><td>45</td><td>45</td><td>55</td><td>45</td><td>55</td><td>63</td><td>5</td><td>False</td></tr>\n",
       "\t<tr><th scope=row>607</th><td>607</td><td>Cottonee </td><td>Grass</td><td>Fairy </td><td>40</td><td>27</td><td>60</td><td>37</td><td>50</td><td>66</td><td>5</td><td>False</td></tr>\n",
       "\t<tr><th scope=row>609</th><td>609</td><td>Petilil  </td><td>Grass</td><td>      </td><td>45</td><td>35</td><td>50</td><td>70</td><td>50</td><td>30</td><td>5</td><td>False</td></tr>\n",
       "\t<tr><th scope=row>659</th><td>659</td><td>Ferroseed</td><td>Grass</td><td>Steel </td><td>44</td><td>50</td><td>91</td><td>24</td><td>86</td><td>10</td><td>5</td><td>False</td></tr>\n",
       "</tbody>\n",
       "</table>\n"
      ],
      "text/latex": [
       "A data.frame: 13 × 12\n",
       "\\begin{tabular}{r|llllllllllll}\n",
       "  & X. & Name & Type.1 & Type.2 & HP & Attack & Defense & Sp..Atk & Sp..Def & Speed & Generation & Legendary\\\\\n",
       "  & <int> & <chr> & <chr> & <chr> & <int> & <int> & <int> & <int> & <int> & <int> & <int> & <chr>\\\\\n",
       "\\hline\n",
       "\t1 &   1 & Bulbasaur & Grass & Poison & 45 & 49 & 49 & 65 & 65 & 45 & 1 & False\\\\\n",
       "\t49 &  49 & Oddish    & Grass & Poison & 45 & 50 & 55 & 75 & 65 & 30 & 1 & False\\\\\n",
       "\t167 & 167 & Chikorita & Grass &        & 45 & 49 & 65 & 49 & 65 & 45 & 2 & False\\\\\n",
       "\t203 & 203 & Hoppip    & Grass & Flying & 35 & 35 & 40 & 35 & 55 & 50 & 2 & False\\\\\n",
       "\t207 & 207 & Sunkern   & Grass &        & 30 & 30 & 30 & 30 & 30 & 30 & 2 & False\\\\\n",
       "\t273 & 273 & Treecko   & Grass &        & 40 & 45 & 35 & 65 & 55 & 70 & 3 & False\\\\\n",
       "\t297 & 297 & Seedot    & Grass &        & 40 & 40 & 50 & 30 & 30 & 30 & 3 & False\\\\\n",
       "\t452 & 452 & Budew     & Grass & Poison & 40 & 30 & 35 & 50 & 70 & 55 & 4 & False\\\\\n",
       "\t468 & 468 & Cherubi   & Grass &        & 45 & 35 & 45 & 62 & 53 & 35 & 4 & False\\\\\n",
       "\t555 & 555 & Snivy     & Grass &        & 45 & 45 & 55 & 45 & 55 & 63 & 5 & False\\\\\n",
       "\t607 & 607 & Cottonee  & Grass & Fairy  & 40 & 27 & 60 & 37 & 50 & 66 & 5 & False\\\\\n",
       "\t609 & 609 & Petilil   & Grass &        & 45 & 35 & 50 & 70 & 50 & 30 & 5 & False\\\\\n",
       "\t659 & 659 & Ferroseed & Grass & Steel  & 44 & 50 & 91 & 24 & 86 & 10 & 5 & False\\\\\n",
       "\\end{tabular}\n"
      ],
      "text/markdown": [
       "\n",
       "A data.frame: 13 × 12\n",
       "\n",
       "| <!--/--> | X. &lt;int&gt; | Name &lt;chr&gt; | Type.1 &lt;chr&gt; | Type.2 &lt;chr&gt; | HP &lt;int&gt; | Attack &lt;int&gt; | Defense &lt;int&gt; | Sp..Atk &lt;int&gt; | Sp..Def &lt;int&gt; | Speed &lt;int&gt; | Generation &lt;int&gt; | Legendary &lt;chr&gt; |\n",
       "|---|---|---|---|---|---|---|---|---|---|---|---|---|\n",
       "| 1 |   1 | Bulbasaur | Grass | Poison | 45 | 49 | 49 | 65 | 65 | 45 | 1 | False |\n",
       "| 49 |  49 | Oddish    | Grass | Poison | 45 | 50 | 55 | 75 | 65 | 30 | 1 | False |\n",
       "| 167 | 167 | Chikorita | Grass | <!----> | 45 | 49 | 65 | 49 | 65 | 45 | 2 | False |\n",
       "| 203 | 203 | Hoppip    | Grass | Flying | 35 | 35 | 40 | 35 | 55 | 50 | 2 | False |\n",
       "| 207 | 207 | Sunkern   | Grass | <!----> | 30 | 30 | 30 | 30 | 30 | 30 | 2 | False |\n",
       "| 273 | 273 | Treecko   | Grass | <!----> | 40 | 45 | 35 | 65 | 55 | 70 | 3 | False |\n",
       "| 297 | 297 | Seedot    | Grass | <!----> | 40 | 40 | 50 | 30 | 30 | 30 | 3 | False |\n",
       "| 452 | 452 | Budew     | Grass | Poison | 40 | 30 | 35 | 50 | 70 | 55 | 4 | False |\n",
       "| 468 | 468 | Cherubi   | Grass | <!----> | 45 | 35 | 45 | 62 | 53 | 35 | 4 | False |\n",
       "| 555 | 555 | Snivy     | Grass | <!----> | 45 | 45 | 55 | 45 | 55 | 63 | 5 | False |\n",
       "| 607 | 607 | Cottonee  | Grass | Fairy  | 40 | 27 | 60 | 37 | 50 | 66 | 5 | False |\n",
       "| 609 | 609 | Petilil   | Grass | <!----> | 45 | 35 | 50 | 70 | 50 | 30 | 5 | False |\n",
       "| 659 | 659 | Ferroseed | Grass | Steel  | 44 | 50 | 91 | 24 | 86 | 10 | 5 | False |\n",
       "\n"
      ],
      "text/plain": [
       "    X.  Name      Type.1 Type.2 HP Attack Defense Sp..Atk Sp..Def Speed\n",
       "1     1 Bulbasaur Grass  Poison 45 49     49      65      65      45   \n",
       "49   49 Oddish    Grass  Poison 45 50     55      75      65      30   \n",
       "167 167 Chikorita Grass         45 49     65      49      65      45   \n",
       "203 203 Hoppip    Grass  Flying 35 35     40      35      55      50   \n",
       "207 207 Sunkern   Grass         30 30     30      30      30      30   \n",
       "273 273 Treecko   Grass         40 45     35      65      55      70   \n",
       "297 297 Seedot    Grass         40 40     50      30      30      30   \n",
       "452 452 Budew     Grass  Poison 40 30     35      50      70      55   \n",
       "468 468 Cherubi   Grass         45 35     45      62      53      35   \n",
       "555 555 Snivy     Grass         45 45     55      45      55      63   \n",
       "607 607 Cottonee  Grass  Fairy  40 27     60      37      50      66   \n",
       "609 609 Petilil   Grass         45 35     50      70      50      30   \n",
       "659 659 Ferroseed Grass  Steel  44 50     91      24      86      10   \n",
       "    Generation Legendary\n",
       "1   1          False    \n",
       "49  1          False    \n",
       "167 2          False    \n",
       "203 2          False    \n",
       "207 2          False    \n",
       "273 3          False    \n",
       "297 3          False    \n",
       "452 4          False    \n",
       "468 4          False    \n",
       "555 5          False    \n",
       "607 5          False    \n",
       "609 5          False    \n",
       "659 5          False    "
      ]
     },
     "metadata": {},
     "output_type": "display_data"
    }
   ],
   "source": [
    "subset(data,HP<50 & Type.1 == 'Grass')"
   ]
  },
  {
   "cell_type": "markdown",
   "metadata": {},
   "source": [
    "# Tipos de variables\n",
    "* Variable cualitativa\n",
    "    - Nominal\n",
    "    - Ordinal\n",
    "    - Binaria\n",
    "* Variable cuantitativa\n",
    "    - Discreta\n",
    "    - Continua"
   ]
  },
  {
   "cell_type": "markdown",
   "metadata": {},
   "source": [
    "**Definición**: Diremos que una variable es cualitativa si la variable mide una cualidad, como por ejemplo el color del pelo, si tiene pelo o no, si la prueba estuvo fácil, normal, o difícil. Una variable cualitativa se puede sub dividir en 3:\n",
    "* Binaria: Si la variable solo tiene dos posibles casos (Verdadero o Falso, si o no, etc...)\n",
    "* Ordinal: Si la variable tiene un orden como por ejemplo primer lugar, segundo lugar, tercer lugar, o bien la cantidad de algo, que puede ser poco, normal o mucho. \n",
    "* Nominal: Si no es ni ordinal ni binaria, como por ejemplo las marcas de los autos."
   ]
  },
  {
   "cell_type": "markdown",
   "metadata": {},
   "source": [
    "**Definición**: Diremos que una variable es cuantitativa, si la variable mide una cantidad. Como por ejemplo cantidad de glucosa en la sangre, cantidad de perros en una casa, entre otras. Una variable cualitativa se puede subdividir en 2:\n",
    "* Discreta: Si la característica se puede contar. Como por ejemplo cantidad de personas en una sala de clases. En general la variable se mide mediante números a lo más enteros.\n",
    "* Continua: Si la característica se debe medir mediante números reales (con decimales). Como por ejemplo el tamaño y peso de una persona, el tiempo necesario para que ocurra algo."
   ]
  },
  {
   "cell_type": "markdown",
   "metadata": {},
   "source": [
    "## Ejemplo:\n",
    "Mire la base de datos __pokemon.csv__, analizaremos que tipo de variable es cada característica del pokemon:\n",
    "* Name,Type.1,Type.2 son nominales\n",
    "* HP,Attack,Defense,Sp..Atk,Sp..Def,Speed son discretas\n",
    "* Generation es ordinal\n",
    "* Legendary es binaria"
   ]
  },
  {
   "cell_type": "markdown",
   "metadata": {},
   "source": [
    "# Tablas de frecuencia\n",
    "En primer lugar lo que haremos sera leer la base de datos `pokemon.csv`"
   ]
  },
  {
   "cell_type": "markdown",
   "metadata": {},
   "source": [
    "Para empezar a trabajar ya con los datos lo que haremos sera trabajar con una sola variable numérica. En este caso trabajaremos solo con los valores `Attack` es decir analizaremos la siguiente data"
   ]
  },
  {
   "cell_type": "code",
   "execution_count": 91,
   "metadata": {},
   "outputs": [],
   "source": [
    "Ataque = data$Attack"
   ]
  },
  {
   "cell_type": "markdown",
   "metadata": {},
   "source": [
    "Ver los datos de esta forma es muy incomodo pues no se ve alguna tendencia o repetición de los datos. Por tanto es adecuado agruparlo en una tabla de frecuencias.\n",
    "\n",
    "**Definición**: Se le llama _frecuencia_ de un dato a la cantidad de veces que se repite cierto dato, y se denota por la letra minuscula $f$.\n",
    "\n",
    "**Definición**: Una _tabla de frecuencias_ corresponde a agrupar los datos en dos columnas. En la primera estan los datos y en la segunda va la cantidad la frecuencia del dato.\n",
    "\n",
    "En R esta tabla se puede obtener mediante la función `table(#base de datos)`."
   ]
  },
  {
   "cell_type": "code",
   "execution_count": 92,
   "metadata": {},
   "outputs": [
    {
     "data": {
      "text/plain": [
       "Ataque\n",
       "  5  10  15  20  22  23  24  25  27  29  30  33  35  36  38  40  41  42  43  44 \n",
       "  2   3   1   8   1   1   1   7   1   1  20   1  13   1   3  21   2   1   1   1 \n",
       " 45  46  47  48  49  50  51  52  53  54  55  56  57  58  59  60  61  62  63  64 \n",
       " 27   1   3   9   3  37   2   7   5   1  30   3   2   4   3  33   2   4   6   5 \n",
       " 65  66  67  68  69  70  71  72  73  74  75  76  77  78  79  80  81  82  83  84 \n",
       " 39   7   2   3   4  31   1   7   5   1  32   4   4   4   1  37   3   6   4   5 \n",
       " 85  86  87  88  89  90  91  92  93  94  95  97  98 100 102 103 104 105 106 107 \n",
       " 33   2   2   1   3  30   1   7   2   2  26   1   3  40   1   3   3  17   1   1 \n",
       "108 109 110 112 115 117 120 121 123 124 125 128 129 130 131 132 134 135 136 140 \n",
       "  1   2  18   2   9   3  21   1   3   2  14   1   1  14   2   1   2   6   1   6 \n",
       "145 147 150 155 160 164 165 170 180 185 190 \n",
       "  4   1  11   2   5   1   3   2   3   1   1 "
      ]
     },
     "metadata": {},
     "output_type": "display_data"
    }
   ],
   "source": [
    "table(Ataque)"
   ]
  },
  {
   "cell_type": "markdown",
   "metadata": {},
   "source": [
    "Esta tabla indica cuantas veces se repite un cierto dato. Por ejemplo existen 7 pokemones cuyo valor de `Attack` es 7."
   ]
  },
  {
   "cell_type": "markdown",
   "metadata": {},
   "source": [
    "# Visualización de los datos"
   ]
  },
  {
   "cell_type": "markdown",
   "metadata": {},
   "source": [
    "La visualización de los datos es una parte muy importante, puesto que es una forma muy simple de tener alguna idea del comportamiento de los datos. Además resume de forma muy apropiada la información para todo publico, pero aún así existen personas que utilizan de forma erronea los graficos y hacen sacar falsas conclusiones a las personas que ven los graficos. Como por ejemplo el siguiente grafico:\n",
    "\n",
    "<img src=\"https://media.biobiochile.cl/wp-content/uploads/2017/11/grafico-sebastian-piera-victimizacion-730x350.jpg\" alt=\"\" align=\"middle\"/>\n",
    "\n",
    "**¿Cúal es el problema de este gráfico?** \n",
    "\n",
    "Veamos otro gráfico:\n",
    "\n",
    "![covid](covid.jpg)\n",
    "\n",
    "**¿Cúal es el problema de este gráfico?** \n",
    "\n",
    "Es importante elegir el gráfico adecuado dependiendo de cada contexto y además poder saber cuando un gráfico entrega una información adecuada o no.\n",
    "\n",
    "A continuación presentamos varias formas de visualizar los datos en R. Las funciones para hacer gráficos son:\n",
    "* `plot(datos)`\n",
    "* `plot(table(datos))`\n",
    "* `hist(datos)`\n",
    "* `hist(table(datos))`\n",
    "* `pairs(table(datos))`\n",
    "* `pie(datos)`\n",
    "* `pie(table(datos))`"
   ]
  },
  {
   "cell_type": "markdown",
   "metadata": {},
   "source": [
    "# Medidas \n",
    "## Medidas de tendencia central"
   ]
  },
  {
   "cell_type": "markdown",
   "metadata": {},
   "source": [
    "Las medidas de tendencia central son una forma de resumir la información de un conjunto de datos mediante un número o dato. Estas medidas son:\n",
    "* **Promedio o media muestral**: Corresponde a sumar todos los datos y dividirlos por el total de datos, es decir, si el conjunto de datos es $x_1,x_2,...,x_n$ entonces tenemos que el promedio denotado por $\\bar{x}$ viene dado por:\n",
    "$$\n",
    "    \\bar{x} = \\dfrac{1}{n}\\sum_{i=1}^n x_i \n",
    "$$\n",
    "en R el comando para calcular el promedio es `mean(datos)`. Por ejemplo para los dos conjuntos de datos anteriores tenemos que:"
   ]
  },
  {
   "cell_type": "code",
   "execution_count": 93,
   "metadata": {},
   "outputs": [
    {
     "data": {
      "text/html": [
       "79.00125"
      ],
      "text/latex": [
       "79.00125"
      ],
      "text/markdown": [
       "79.00125"
      ],
      "text/plain": [
       "[1] 79.00125"
      ]
     },
     "metadata": {},
     "output_type": "display_data"
    }
   ],
   "source": [
    "mean(Ataque)"
   ]
  },
  {
   "cell_type": "markdown",
   "metadata": {},
   "source": [
    "* **Mediana**: Corresponde al dato en la posición central si es que los datos estan ordenados de menor a mayor. Para obtenerlo se debe usar el comando `median(data)`. Por ejemplo para los dos conjuntos de datos anteriores tenemos que:"
   ]
  },
  {
   "cell_type": "code",
   "execution_count": 94,
   "metadata": {},
   "outputs": [
    {
     "data": {
      "text/html": [
       "75"
      ],
      "text/latex": [
       "75"
      ],
      "text/markdown": [
       "75"
      ],
      "text/plain": [
       "[1] 75"
      ]
     },
     "metadata": {},
     "output_type": "display_data"
    }
   ],
   "source": [
    "median(Ataque)"
   ]
  },
  {
   "cell_type": "markdown",
   "metadata": {},
   "source": [
    "* **Moda**: corresponde al dato que mas se repite. En el R se puede obtener mediante el maximo de las frecuencias. Para calcularla en R se necesita *instalar una librería* mediante la función `install.packages(\"modeest\")`. Una vez instalada en tu computadora debes incluirla en tu codigo mediandte la función `library(modeest)`.Finalmente luego utlizar el comando `mlv(datos)`"
   ]
  },
  {
   "cell_type": "code",
   "execution_count": 95,
   "metadata": {},
   "outputs": [],
   "source": [
    "#install.packages(\"modeest\") \n",
    "library(modeest)"
   ]
  },
  {
   "cell_type": "code",
   "execution_count": 96,
   "metadata": {},
   "outputs": [
    {
     "data": {
      "text/html": [
       "100"
      ],
      "text/latex": [
       "100"
      ],
      "text/markdown": [
       "100"
      ],
      "text/plain": [
       "[1] 100"
      ]
     },
     "metadata": {},
     "output_type": "display_data"
    }
   ],
   "source": [
    "mlv(Ataque)"
   ]
  },
  {
   "cell_type": "markdown",
   "metadata": {},
   "source": [
    "## Medidas de dispersión"
   ]
  },
  {
   "cell_type": "markdown",
   "metadata": {},
   "source": [
    "**Definición:** Una medida de dispersión es una función de los datos cuyo objetivo es medir que distintos son los datos entre si. La principal y mas común medida de dispersión es la varianza."
   ]
  },
  {
   "cell_type": "markdown",
   "metadata": {},
   "source": [
    "**Definición:** Dado un conjunto de datos $x_1,...,x_n$ se define la varianza muestral como:\n",
    "$$\n",
    "S^2 = \\dfrac{1}{n-1} \\sum_{i=1}^n (x_i-\\bar{x})^2\n",
    "$$\n",
    "En el R se puede obtener mediante la función `var(datos)`.\n",
    "\n",
    "**Definición:** Dado un conjunto de datos $x_1,...,x_n$ se define la desviación estandar de este conjunto de datos como:\n",
    "$$\n",
    "S = \\sqrt{S^2}\n",
    "$$\n",
    "En el R se puede obtener mediante la función `sd(datos)`.\n",
    "\n",
    "**Interpretación** El conjunto de datos con menor varianza o desviación estandar tiene menor variabilidad en sus datos; en otras palabras \n",
    "* _Mientras mas pequeña sea la varianza los datos suelen ser mas parecidos._\n",
    "* _Mientras que si la varianza es grande entonces los datos suelen ser muy distintos._\n",
    "\n",
    "Utilizando la interpretación deberiamos concluir que `base_2` tiene mayor varianza que la `base_1` puesto que la distancia entre los datos es mayor en la `base_2` que en la `base_1`. Revisemos con el R"
   ]
  },
  {
   "cell_type": "markdown",
   "metadata": {},
   "source": [
    "### Función `summary()`"
   ]
  },
  {
   "cell_type": "markdown",
   "metadata": {},
   "source": [
    "En general, para analizar una base de datos uno debe realizar un estudio descriptivo de los datos. Sin embargo en R existe una función sumamente útil que resume la información mas importante que se puede deducir de una base de datos. Esta función se llama `summary(data)` y lo que realiza esta función depende del tipo de base de datos que se le entregue a la función, para nuestro caso veamos que le hace a nuestra base de datos."
   ]
  },
  {
   "cell_type": "code",
   "execution_count": 97,
   "metadata": {},
   "outputs": [
    {
     "data": {
      "text/plain": [
       "       X.            Name              Type.1             Type.2         \n",
       " Min.   :  1.0   Length:800         Length:800         Length:800        \n",
       " 1st Qu.:200.8   Class :character   Class :character   Class :character  \n",
       " Median :400.5   Mode  :character   Mode  :character   Mode  :character  \n",
       " Mean   :400.5                                                           \n",
       " 3rd Qu.:600.2                                                           \n",
       " Max.   :800.0                                                           \n",
       "       HP             Attack       Defense          Sp..Atk      \n",
       " Min.   :  1.00   Min.   :  5   Min.   :  5.00   Min.   : 10.00  \n",
       " 1st Qu.: 50.00   1st Qu.: 55   1st Qu.: 50.00   1st Qu.: 49.75  \n",
       " Median : 65.00   Median : 75   Median : 70.00   Median : 65.00  \n",
       " Mean   : 69.26   Mean   : 79   Mean   : 73.84   Mean   : 72.82  \n",
       " 3rd Qu.: 80.00   3rd Qu.:100   3rd Qu.: 90.00   3rd Qu.: 95.00  \n",
       " Max.   :255.00   Max.   :190   Max.   :230.00   Max.   :194.00  \n",
       "    Sp..Def          Speed          Generation     Legendary        \n",
       " Min.   : 20.0   Min.   :  5.00   Min.   :1.000   Length:800        \n",
       " 1st Qu.: 50.0   1st Qu.: 45.00   1st Qu.:2.000   Class :character  \n",
       " Median : 70.0   Median : 65.00   Median :3.000   Mode  :character  \n",
       " Mean   : 71.9   Mean   : 68.28   Mean   :3.324                     \n",
       " 3rd Qu.: 90.0   3rd Qu.: 90.00   3rd Qu.:5.000                     \n",
       " Max.   :230.0   Max.   :180.00   Max.   :6.000                     "
      ]
     },
     "metadata": {},
     "output_type": "display_data"
    }
   ],
   "source": [
    "summary(data)"
   ]
  },
  {
   "cell_type": "markdown",
   "metadata": {},
   "source": [
    "Si se fijan esta función no nos da la varianza ni la desviación estándar, pero nos da para los datos cualitativos la frecuencia de los datos, mientras que para los datos cuantitativos nos da el mínimo, máximo, media, mediana y dos variables que por ahora no sabemos que son.\n",
    "* 1st Qu.\n",
    "* 3st Qu.\n",
    "\n",
    "Estos datos que entrega `summary()` correspondes a los **cuantiles** los cuales los definiremos a continuación:\n",
    "\n",
    "## Cuantiles\n",
    "\n",
    "**Definición:**  Los cuantiles son estadísticos que permiten obtener cual es el dato que se posiciona en el porcentaje $x$ de la muestra.\n",
    "\n",
    "**Ejemplo:** El cuantil 0.5 de una muestra de datos es la mediana.\n",
    "\n",
    "**Definición:** LLamaremos función de cuantia a la función `quantile(data,%x)` a la función que obtiene el dato que se divide la muestra en dos partes. Una con el %x de los datos y otra con %(100-x) de los datos ordenados de menor a mayor.\n",
    "\n",
    "Esta función esta implementada en el R y viene dada por `quantile(data,%)`. Por ejemplo podemos calcular cual es el dato que divide a la muestra en 40% y 60% ordenados de menor a mayor:"
   ]
  },
  {
   "cell_type": "markdown",
   "metadata": {},
   "source": [
    "Esto muestra que el cuantil 0.5 es igual a la mediana.\n",
    "\n",
    "En general la muestra se divide en partes iguales según un porcentaje. Existen varias formas de dividir la muestra en partes iguales:\n",
    "* Percentil: Divide la muestra en 100 partes iguales, por tanto el percentil 11 corresponde al 11% de los datos y se puede obtener mediante la función `quantile(data,0.11)`\n",
    "* Decil: Divide la muestra en 10 partes iguales, por tanto el decil 3 corresponde al 30% de los datos y se puede obtener mediante la función `quantile(data,0.30)`\n",
    "* Quintil: Divide la muestra en 5 partes iguales, por tanto el quintil 4 corresponde al 80% de los datos y se puede obtener mediante la función `quantile(data,0.80)`\n",
    "* Cuartil: Divide la muestra en 4 partes iguales, por tanto el cuartil 1 corresponde al 25% de los datos y se puede obtener mediante la función `quantile(data,0.25)`\n",
    "\n",
    "De esta forma podemos dividir la muestra. Con los cuantiles podemos responder preguntas del siguiente estilo:\n",
    "\n",
    "_¿Es correcto afirmar que un 30% de la muestra cumple que su `Total.Facturado..dolares.` es menor a 50?_\n",
    "\n",
    "Notemos que si ordenamos los datos de menor a mayor y calculamos el percentil 30 tenemos que:"
   ]
  },
  {
   "cell_type": "markdown",
   "metadata": {},
   "source": [
    "## Detección de datos atípicos\n",
    "Pongamos la siguiente situación, en un colegio un estudiante tiene las siguientes notas:\n",
    "$$\n",
    "\\{ 7.0 , 4.1 ,6.0 , 3.2, 5.1 ,62, 4.5 , 6.3 \\}\n",
    "$$\n",
    "Entonces ustedes como expertos en estadística le harán un estudio a las notas. Para ello harán el primer paso que es realizar una gráfica adecuada."
   ]
  },
  {
   "cell_type": "code",
   "execution_count": 98,
   "metadata": {},
   "outputs": [
    {
     "data": {
      "image/png": "[encoded data removed]",
      "text/plain": [
       "plot without title"
      ]
     },
     "metadata": {
      "image/png": {
       "height": 420,
       "width": 420
      }
     },
     "output_type": "display_data"
    }
   ],
   "source": [
    "notas = c(7.0 , 4.1 ,6.0 , 3.2, 5.1 ,62, 4.5 , 6.3 )\n",
    "plot(notas)"
   ]
  },
  {
   "cell_type": "markdown",
   "metadata": {},
   "source": [
    "Tu sabes que las notas de un alumno varian entre 0 y 7 pero tienes esa nota extraña. Por tanto con una simpre visualización puedes darte cuenta que tienes un dato atípico. En general existen mejores graficos para detectar estos datos atipicos, en R existe un grafico muy clasico que es el qqPlot que es el gráfico de quantile-quantile. Se puede programar de la siguiente forma"
   ]
  },
  {
   "cell_type": "code",
   "execution_count": 99,
   "metadata": {},
   "outputs": [],
   "source": [
    "#install.packages('car')\n",
    "library(\"car\")"
   ]
  },
  {
   "cell_type": "code",
   "execution_count": 100,
   "metadata": {},
   "outputs": [
    {
     "data": {
      "text/html": [
       "<style>\n",
       ".list-inline {list-style: none; margin:0; padding: 0}\n",
       ".list-inline>li {display: inline-block}\n",
       ".list-inline>li:not(:last-child)::after {content: \"\\00b7\"; padding: 0 .5ex}\n",
       "</style>\n",
       "<ol class=list-inline><li>6</li><li>4</li></ol>\n"
      ],
      "text/latex": [
       "\\begin{enumerate*}\n",
       "\\item 6\n",
       "\\item 4\n",
       "\\end{enumerate*}\n"
      ],
      "text/markdown": [
       "1. 6\n",
       "2. 4\n",
       "\n",
       "\n"
      ],
      "text/plain": [
       "[1] 6 4"
      ]
     },
     "metadata": {},
     "output_type": "display_data"
    },
    {
     "data": {
      "image/png": "[encoded data removed]",
      "text/plain": [
       "plot without title"
      ]
     },
     "metadata": {
      "image/png": {
       "height": 420,
       "width": 420
      }
     },
     "output_type": "display_data"
    },
    {
     "data": {
      "image/png": "[encoded data removed]",
      "text/plain": [
       "plot without title"
      ]
     },
     "metadata": {
      "image/png": {
       "height": 420,
       "width": 420
      }
     },
     "output_type": "display_data"
    }
   ],
   "source": [
    "qqPlot(notas)\n",
    "boxplot(notas)"
   ]
  },
  {
   "cell_type": "markdown",
   "metadata": {},
   "source": [
    "### Boxplot"
   ]
  },
  {
   "cell_type": "markdown",
   "metadata": {},
   "source": [
    "Un box plot es un gráfico inter cuartil que permite determinar como se acumulan los datos. Este gráfico es:\n",
    "\n",
    "<img src=\"https://miro.medium.com/max/18000/1*2c21SkzJMf3frPXPAR_gZA.png\" width=\"400\" alt=\"utfsm-logo\" align=\"center\"/>\n",
    "\n",
    "\n"
   ]
  },
  {
   "cell_type": "markdown",
   "metadata": {},
   "source": [
    "La linea amarilla representa la ubicación de la mediana, el sector en rojo el desde el percentil 25 al 75. Y los bigotes representan los extremos tolerables. Finalmente los puntos fuera del boxplot son los llamados datos atipicos o outilers. Revisemos los boxplot de nuestros ejemplos:"
   ]
  },
  {
   "cell_type": "markdown",
   "metadata": {},
   "source": [
    "## Curtosis"
   ]
  },
  {
   "cell_type": "markdown",
   "metadata": {},
   "source": [
    "En la clase anterior estudiamos la data set `pokemon.csv`, y comentamos un poco el histograma de la variable `Defense`"
   ]
  },
  {
   "cell_type": "code",
   "execution_count": 101,
   "metadata": {},
   "outputs": [
    {
     "data": {
      "image/png": "[encoded data removed]",
      "text/plain": [
       "Plot with title \"Histogram of data2$Defense\""
      ]
     },
     "metadata": {
      "image/png": {
       "height": 420,
       "width": 420
      }
     },
     "output_type": "display_data"
    },
    {
     "data": {
      "image/png": "[encoded data removed]",
      "text/plain": [
       "plot without title"
      ]
     },
     "metadata": {
      "image/png": {
       "height": 420,
       "width": 420
      }
     },
     "output_type": "display_data"
    }
   ],
   "source": [
    "data2 = read.csv('pokemon.csv')\n",
    "hist(data2$Defense)\n",
    "boxplot(data2$Defense)"
   ]
  },
  {
   "cell_type": "markdown",
   "metadata": {},
   "source": [
    "Nos dimos cuenta que existe una expecie de normalidad de los datos, la normalidad se piensa como que los datos vienen de una distribución normal (proximos laboratorios hablaremos en mas detalle). Pero en simples palabras los datos se comportan como una campana de gauss la cual es la que se muestra a continuación.\n",
    "\n",
    "<img src=\"https://upload.wikimedia.org/wikipedia/commons/1/1b/Normal_distribution_pdf.png\" width=\"400\" alt=\"utfsm-logo\" align=\"center\"/>\n",
    "\n",
    "Para saber su un conjunto de datos puede ser normal se calcula la kurtosis de los datos el cual viene dado por:\n",
    "\n",
    "$$\n",
    "\\frac{1}{N} \\cdot \\frac{\\sum_{i=1}^{N}\\left(x_{i}-\\bar{x}\\right)^{4}}{\\sigma^{4}}\n",
    "$$\n",
    "* Si este coeficiente es 3, la distribución se dice normal (similar a la distribución normal de Gauss) y recibe el nombre de mesocúrtica.\n",
    "* Si el coeficiente es >3, la distribución se llama leptocúrtica, más puntiaguda que la anterior. Hay una mayor concentración de los datos en torno a la media.\n",
    "* Si el coeficiente es <3, la distribución se llama platicúrtica y hay una menor concentración de datos en torno a la media. sería más achatada que la primera.\n",
    "\n",
    "En el R para calcular la curtosis se puede hacer mediante la función `kurtosis()`\n",
    "\n",
    "Y la simetria de la distribución se puede ver mediante el indice de simetria de Fisher:\n",
    "$$\n",
    "\\frac{1}{N} \\cdot \\frac{\\sum_{i=1}^{N}\\left(x_{i}-\\bar{x}\\right)^{3} }{\\sigma^{3}}\n",
    "$$\n",
    "Si la distribución es simétrica, el indice es igual a 0; si es asimétrica a la derecha, es positivo; y si es asimétrica a la izquierda, es negativo. En el R se puede calcular mediante el siguiente par de funciones:"
   ]
  },
  {
   "cell_type": "code",
   "execution_count": 102,
   "metadata": {},
   "outputs": [
    {
     "data": {
      "text/html": [
       "1.15374383757872"
      ],
      "text/latex": [
       "1.15374383757872"
      ],
      "text/markdown": [
       "1.15374383757872"
      ],
      "text/plain": [
       "[1] 1.153744"
      ]
     },
     "metadata": {},
     "output_type": "display_data"
    }
   ],
   "source": [
    "#install.packages('moments')\n",
    "library(moments)\n",
    "skewness(data2$Defense)"
   ]
  },
  {
   "cell_type": "markdown",
   "metadata": {},
   "source": [
    "Y el curtosis:"
   ]
  },
  {
   "cell_type": "code",
   "execution_count": 103,
   "metadata": {},
   "outputs": [
    {
     "data": {
      "text/html": [
       "5.7017603878812"
      ],
      "text/latex": [
       "5.7017603878812"
      ],
      "text/markdown": [
       "5.7017603878812"
      ],
      "text/plain": [
       "[1] 5.70176"
      ]
     },
     "metadata": {},
     "output_type": "display_data"
    }
   ],
   "source": [
    "kurtosis(data2$Defense)"
   ]
  },
  {
   "cell_type": "markdown",
   "metadata": {},
   "source": [
    "Por tanto los datos no son tan normales como esperabamos y según el estimador deberia tener esta es asimetrica a la derecha. Veamos un conjunto de datos si es normal:"
   ]
  },
  {
   "cell_type": "code",
   "execution_count": 104,
   "metadata": {},
   "outputs": [
    {
     "data": {
      "image/png": "[encoded data removed]",
      "text/plain": [
       "plot without title"
      ]
     },
     "metadata": {
      "image/png": {
       "height": 420,
       "width": 420
      }
     },
     "output_type": "display_data"
    },
    {
     "data": {
      "image/png": "[encoded data removed]",
      "text/plain": [
       "Plot with title \"Histogram of data3\""
      ]
     },
     "metadata": {
      "image/png": {
       "height": 420,
       "width": 420
      }
     },
     "output_type": "display_data"
    },
    {
     "data": {
      "image/png": "[encoded data removed]",
      "text/plain": [
       "plot without title"
      ]
     },
     "metadata": {
      "image/png": {
       "height": 420,
       "width": 420
      }
     },
     "output_type": "display_data"
    }
   ],
   "source": [
    "data3=rnorm(1000,0,1)\n",
    "plot(data3)\n",
    "hist(data3)\n",
    "plot(sort(data3))"
   ]
  },
  {
   "cell_type": "code",
   "execution_count": 105,
   "metadata": {},
   "outputs": [
    {
     "data": {
      "text/html": [
       "2.909004590235"
      ],
      "text/latex": [
       "2.909004590235"
      ],
      "text/markdown": [
       "2.909004590235"
      ],
      "text/plain": [
       "[1] 2.909005"
      ]
     },
     "metadata": {},
     "output_type": "display_data"
    }
   ],
   "source": [
    "kurtosis(data3)"
   ]
  },
  {
   "cell_type": "code",
   "execution_count": 106,
   "metadata": {},
   "outputs": [
    {
     "data": {
      "text/html": [
       "0.0864573089049714"
      ],
      "text/latex": [
       "0.0864573089049714"
      ],
      "text/markdown": [
       "0.0864573089049714"
      ],
      "text/plain": [
       "[1] 0.08645731"
      ]
     },
     "metadata": {},
     "output_type": "display_data"
    }
   ],
   "source": [
    "skewness(data3)"
   ]
  }
 ],
 "metadata": {
  "kernelspec": {
   "display_name": "R",
   "language": "R",
   "name": "ir"
  },
  "language_info": {
   "codemirror_mode": "r",
   "file_extension": ".r",
   "mimetype": "text/x-r-source",
   "name": "R",
   "pygments_lexer": "r",
   "version": "4.0.2"
  }
 },
 "nbformat": 4,
 "nbformat_minor": 4
}
